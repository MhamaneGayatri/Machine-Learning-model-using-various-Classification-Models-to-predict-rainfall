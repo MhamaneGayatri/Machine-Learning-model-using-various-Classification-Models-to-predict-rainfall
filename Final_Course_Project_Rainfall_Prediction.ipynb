{
 "cells": [
  {
   "cell_type": "markdown",
   "id": "ca8131dd",
   "metadata": {},
   "source": [
    "# Final Course Project"
   ]
  },
  {
   "cell_type": "markdown",
   "id": "203a31f5",
   "metadata": {},
   "source": [
    "# Rainfall Prediction"
   ]
  },
  {
   "cell_type": "markdown",
   "id": "23d33769",
   "metadata": {},
   "source": [
    "# Import Libraries"
   ]
  },
  {
   "cell_type": "code",
   "execution_count": 107,
   "id": "599bfcb0",
   "metadata": {},
   "outputs": [],
   "source": [
    "import pandas as pd\n",
    "import seaborn as sns\n",
    "import numpy as np\n",
    "\n",
    "from sklearn.model_selection import train_test_split\n",
    "import matplotlib.pyplot as plt\n",
    "\n",
    "from sklearn.preprocessing import StandardScaler\n",
    "from sklearn.linear_model import LogisticRegression\n",
    "from sklearn.tree import DecisionTreeClassifier\n",
    "from sklearn.preprocessing import StandardScaler\n",
    "from sklearn.metrics import accuracy_score,precision_score,recall_score\n",
    "from sklearn.metrics import confusion_matrix\n",
    "\n"
   ]
  },
  {
   "cell_type": "markdown",
   "id": "f6255c50",
   "metadata": {},
   "source": [
    "# Uploading Data"
   ]
  },
  {
   "cell_type": "code",
   "execution_count": 108,
   "id": "791af856",
   "metadata": {},
   "outputs": [],
   "source": [
    "df=pd.read_excel(\"sydney_rain prediction (1).xlsx\")"
   ]
  },
  {
   "cell_type": "code",
   "execution_count": 109,
   "id": "c7ea760d",
   "metadata": {
    "scrolled": true
   },
   "outputs": [
    {
     "data": {
      "text/plain": [
       "(3337, 17)"
      ]
     },
     "execution_count": 109,
     "metadata": {},
     "output_type": "execute_result"
    }
   ],
   "source": [
    "df.head()\n",
    "\n",
    "df.shape"
   ]
  },
  {
   "cell_type": "markdown",
   "id": "5b0c0ac5",
   "metadata": {},
   "source": [
    "# Data Pre-processing"
   ]
  },
  {
   "cell_type": "code",
   "execution_count": 110,
   "id": "06e4f345",
   "metadata": {},
   "outputs": [
    {
     "data": {
      "text/html": [
       "<div>\n",
       "<style scoped>\n",
       "    .dataframe tbody tr th:only-of-type {\n",
       "        vertical-align: middle;\n",
       "    }\n",
       "\n",
       "    .dataframe tbody tr th {\n",
       "        vertical-align: top;\n",
       "    }\n",
       "\n",
       "    .dataframe thead th {\n",
       "        text-align: right;\n",
       "    }\n",
       "</style>\n",
       "<table border=\"1\" class=\"dataframe\">\n",
       "  <thead>\n",
       "    <tr style=\"text-align: right;\">\n",
       "      <th></th>\n",
       "      <th>MinTemp</th>\n",
       "      <th>MaxTemp</th>\n",
       "      <th>Rainfall</th>\n",
       "      <th>Evaporation</th>\n",
       "      <th>Sunshine</th>\n",
       "      <th>Humidity9am</th>\n",
       "      <th>Humidity3pm</th>\n",
       "      <th>Pressure9am</th>\n",
       "      <th>Pressure3pm</th>\n",
       "      <th>Cloud9am</th>\n",
       "      <th>Cloud3pm</th>\n",
       "      <th>Temp9am</th>\n",
       "      <th>Temp3pm</th>\n",
       "    </tr>\n",
       "  </thead>\n",
       "  <tbody>\n",
       "    <tr>\n",
       "      <th>count</th>\n",
       "      <td>3334.000000</td>\n",
       "      <td>3335.000000</td>\n",
       "      <td>3331.000000</td>\n",
       "      <td>3286.000000</td>\n",
       "      <td>3321.000000</td>\n",
       "      <td>3323.000000</td>\n",
       "      <td>3324.000000</td>\n",
       "      <td>3317.000000</td>\n",
       "      <td>3318.000000</td>\n",
       "      <td>2771.000000</td>\n",
       "      <td>2776.000000</td>\n",
       "      <td>3333.000000</td>\n",
       "      <td>3333.000000</td>\n",
       "    </tr>\n",
       "    <tr>\n",
       "      <th>mean</th>\n",
       "      <td>14.865057</td>\n",
       "      <td>23.002339</td>\n",
       "      <td>3.330231</td>\n",
       "      <td>5.187432</td>\n",
       "      <td>7.179374</td>\n",
       "      <td>68.229010</td>\n",
       "      <td>54.699158</td>\n",
       "      <td>1018.346156</td>\n",
       "      <td>1016.018774</td>\n",
       "      <td>4.181523</td>\n",
       "      <td>4.218660</td>\n",
       "      <td>17.819742</td>\n",
       "      <td>21.533333</td>\n",
       "    </tr>\n",
       "    <tr>\n",
       "      <th>std</th>\n",
       "      <td>4.553641</td>\n",
       "      <td>4.494638</td>\n",
       "      <td>9.895172</td>\n",
       "      <td>2.777407</td>\n",
       "      <td>3.810886</td>\n",
       "      <td>15.085355</td>\n",
       "      <td>16.293530</td>\n",
       "      <td>7.021571</td>\n",
       "      <td>7.032211</td>\n",
       "      <td>2.749578</td>\n",
       "      <td>2.641885</td>\n",
       "      <td>4.897177</td>\n",
       "      <td>4.303737</td>\n",
       "    </tr>\n",
       "    <tr>\n",
       "      <th>min</th>\n",
       "      <td>4.300000</td>\n",
       "      <td>11.700000</td>\n",
       "      <td>0.000000</td>\n",
       "      <td>0.000000</td>\n",
       "      <td>0.000000</td>\n",
       "      <td>19.000000</td>\n",
       "      <td>10.000000</td>\n",
       "      <td>986.700000</td>\n",
       "      <td>989.800000</td>\n",
       "      <td>0.000000</td>\n",
       "      <td>0.000000</td>\n",
       "      <td>6.400000</td>\n",
       "      <td>10.200000</td>\n",
       "    </tr>\n",
       "    <tr>\n",
       "      <th>25%</th>\n",
       "      <td>11.000000</td>\n",
       "      <td>19.600000</td>\n",
       "      <td>0.000000</td>\n",
       "      <td>3.200000</td>\n",
       "      <td>4.300000</td>\n",
       "      <td>58.000000</td>\n",
       "      <td>44.000000</td>\n",
       "      <td>1013.700000</td>\n",
       "      <td>1011.300000</td>\n",
       "      <td>1.000000</td>\n",
       "      <td>1.000000</td>\n",
       "      <td>13.800000</td>\n",
       "      <td>18.400000</td>\n",
       "    </tr>\n",
       "    <tr>\n",
       "      <th>50%</th>\n",
       "      <td>14.900000</td>\n",
       "      <td>22.800000</td>\n",
       "      <td>0.000000</td>\n",
       "      <td>4.800000</td>\n",
       "      <td>8.300000</td>\n",
       "      <td>69.000000</td>\n",
       "      <td>56.000000</td>\n",
       "      <td>1018.600000</td>\n",
       "      <td>1016.300000</td>\n",
       "      <td>5.000000</td>\n",
       "      <td>4.000000</td>\n",
       "      <td>18.200000</td>\n",
       "      <td>21.300000</td>\n",
       "    </tr>\n",
       "    <tr>\n",
       "      <th>75%</th>\n",
       "      <td>18.700000</td>\n",
       "      <td>26.000000</td>\n",
       "      <td>1.400000</td>\n",
       "      <td>7.000000</td>\n",
       "      <td>10.200000</td>\n",
       "      <td>80.000000</td>\n",
       "      <td>65.000000</td>\n",
       "      <td>1023.100000</td>\n",
       "      <td>1020.800000</td>\n",
       "      <td>7.000000</td>\n",
       "      <td>7.000000</td>\n",
       "      <td>21.700000</td>\n",
       "      <td>24.500000</td>\n",
       "    </tr>\n",
       "    <tr>\n",
       "      <th>max</th>\n",
       "      <td>27.600000</td>\n",
       "      <td>45.800000</td>\n",
       "      <td>119.400000</td>\n",
       "      <td>18.400000</td>\n",
       "      <td>13.600000</td>\n",
       "      <td>100.000000</td>\n",
       "      <td>99.000000</td>\n",
       "      <td>1039.000000</td>\n",
       "      <td>1036.700000</td>\n",
       "      <td>9.000000</td>\n",
       "      <td>8.000000</td>\n",
       "      <td>36.500000</td>\n",
       "      <td>44.700000</td>\n",
       "    </tr>\n",
       "  </tbody>\n",
       "</table>\n",
       "</div>"
      ],
      "text/plain": [
       "           MinTemp      MaxTemp     Rainfall  Evaporation     Sunshine  \\\n",
       "count  3334.000000  3335.000000  3331.000000  3286.000000  3321.000000   \n",
       "mean     14.865057    23.002339     3.330231     5.187432     7.179374   \n",
       "std       4.553641     4.494638     9.895172     2.777407     3.810886   \n",
       "min       4.300000    11.700000     0.000000     0.000000     0.000000   \n",
       "25%      11.000000    19.600000     0.000000     3.200000     4.300000   \n",
       "50%      14.900000    22.800000     0.000000     4.800000     8.300000   \n",
       "75%      18.700000    26.000000     1.400000     7.000000    10.200000   \n",
       "max      27.600000    45.800000   119.400000    18.400000    13.600000   \n",
       "\n",
       "       Humidity9am  Humidity3pm  Pressure9am  Pressure3pm     Cloud9am  \\\n",
       "count  3323.000000  3324.000000  3317.000000  3318.000000  2771.000000   \n",
       "mean     68.229010    54.699158  1018.346156  1016.018774     4.181523   \n",
       "std      15.085355    16.293530     7.021571     7.032211     2.749578   \n",
       "min      19.000000    10.000000   986.700000   989.800000     0.000000   \n",
       "25%      58.000000    44.000000  1013.700000  1011.300000     1.000000   \n",
       "50%      69.000000    56.000000  1018.600000  1016.300000     5.000000   \n",
       "75%      80.000000    65.000000  1023.100000  1020.800000     7.000000   \n",
       "max     100.000000    99.000000  1039.000000  1036.700000     9.000000   \n",
       "\n",
       "          Cloud3pm      Temp9am      Temp3pm  \n",
       "count  2776.000000  3333.000000  3333.000000  \n",
       "mean      4.218660    17.819742    21.533333  \n",
       "std       2.641885     4.897177     4.303737  \n",
       "min       0.000000     6.400000    10.200000  \n",
       "25%       1.000000    13.800000    18.400000  \n",
       "50%       4.000000    18.200000    21.300000  \n",
       "75%       7.000000    21.700000    24.500000  \n",
       "max       8.000000    36.500000    44.700000  "
      ]
     },
     "execution_count": 110,
     "metadata": {},
     "output_type": "execute_result"
    }
   ],
   "source": [
    "df.describe()"
   ]
  },
  {
   "cell_type": "markdown",
   "id": "c380b822",
   "metadata": {},
   "source": [
    "### Checking for null values"
   ]
  },
  {
   "cell_type": "code",
   "execution_count": 111,
   "id": "c2a55585",
   "metadata": {},
   "outputs": [
    {
     "data": {
      "text/plain": [
       "Date              0\n",
       "Location          0\n",
       "MinTemp           3\n",
       "MaxTemp           2\n",
       "Rainfall          6\n",
       "Evaporation      51\n",
       "Sunshine         16\n",
       "Humidity9am      14\n",
       "Humidity3pm      13\n",
       "Pressure9am      20\n",
       "Pressure3pm      19\n",
       "Cloud9am        566\n",
       "Cloud3pm        561\n",
       "Temp9am           4\n",
       "Temp3pm           4\n",
       "RainToday         6\n",
       "RainTomorrow      0\n",
       "dtype: int64"
      ]
     },
     "execution_count": 111,
     "metadata": {},
     "output_type": "execute_result"
    }
   ],
   "source": [
    "df.isnull().sum()"
   ]
  },
  {
   "cell_type": "markdown",
   "id": "2dc9f395",
   "metadata": {},
   "source": [
    "### Missing Value Imputation For Numerical and Float values"
   ]
  },
  {
   "cell_type": "code",
   "execution_count": 112,
   "id": "eccaa8bf",
   "metadata": {},
   "outputs": [
    {
     "data": {
      "text/html": [
       "<div>\n",
       "<style scoped>\n",
       "    .dataframe tbody tr th:only-of-type {\n",
       "        vertical-align: middle;\n",
       "    }\n",
       "\n",
       "    .dataframe tbody tr th {\n",
       "        vertical-align: top;\n",
       "    }\n",
       "\n",
       "    .dataframe thead th {\n",
       "        text-align: right;\n",
       "    }\n",
       "</style>\n",
       "<table border=\"1\" class=\"dataframe\">\n",
       "  <thead>\n",
       "    <tr style=\"text-align: right;\">\n",
       "      <th></th>\n",
       "      <th>Date</th>\n",
       "      <th>Location</th>\n",
       "      <th>MinTemp</th>\n",
       "      <th>MaxTemp</th>\n",
       "      <th>Rainfall</th>\n",
       "      <th>Evaporation</th>\n",
       "      <th>Sunshine</th>\n",
       "      <th>Humidity9am</th>\n",
       "      <th>Humidity3pm</th>\n",
       "      <th>Pressure9am</th>\n",
       "      <th>Pressure3pm</th>\n",
       "      <th>Cloud9am</th>\n",
       "      <th>Cloud3pm</th>\n",
       "      <th>Temp9am</th>\n",
       "      <th>Temp3pm</th>\n",
       "      <th>RainToday</th>\n",
       "      <th>RainTomorrow</th>\n",
       "    </tr>\n",
       "  </thead>\n",
       "  <tbody>\n",
       "    <tr>\n",
       "      <th>0</th>\n",
       "      <td>2008-02-01</td>\n",
       "      <td>Sydney</td>\n",
       "      <td>19.5</td>\n",
       "      <td>22.4</td>\n",
       "      <td>15.6</td>\n",
       "      <td>6.200000</td>\n",
       "      <td>0.0</td>\n",
       "      <td>92.0</td>\n",
       "      <td>84.0</td>\n",
       "      <td>1017.6</td>\n",
       "      <td>1017.4</td>\n",
       "      <td>8.0</td>\n",
       "      <td>8.0</td>\n",
       "      <td>20.7</td>\n",
       "      <td>20.9</td>\n",
       "      <td>Yes</td>\n",
       "      <td>Yes</td>\n",
       "    </tr>\n",
       "    <tr>\n",
       "      <th>1</th>\n",
       "      <td>2008-02-02</td>\n",
       "      <td>Sydney</td>\n",
       "      <td>19.5</td>\n",
       "      <td>25.6</td>\n",
       "      <td>6.0</td>\n",
       "      <td>3.400000</td>\n",
       "      <td>2.7</td>\n",
       "      <td>83.0</td>\n",
       "      <td>73.0</td>\n",
       "      <td>1017.9</td>\n",
       "      <td>1016.4</td>\n",
       "      <td>7.0</td>\n",
       "      <td>7.0</td>\n",
       "      <td>22.4</td>\n",
       "      <td>24.8</td>\n",
       "      <td>Yes</td>\n",
       "      <td>Yes</td>\n",
       "    </tr>\n",
       "    <tr>\n",
       "      <th>2</th>\n",
       "      <td>2008-02-03</td>\n",
       "      <td>Sydney</td>\n",
       "      <td>21.6</td>\n",
       "      <td>24.5</td>\n",
       "      <td>6.6</td>\n",
       "      <td>2.400000</td>\n",
       "      <td>0.1</td>\n",
       "      <td>88.0</td>\n",
       "      <td>86.0</td>\n",
       "      <td>1016.7</td>\n",
       "      <td>1015.6</td>\n",
       "      <td>7.0</td>\n",
       "      <td>8.0</td>\n",
       "      <td>23.5</td>\n",
       "      <td>23.0</td>\n",
       "      <td>Yes</td>\n",
       "      <td>Yes</td>\n",
       "    </tr>\n",
       "    <tr>\n",
       "      <th>3</th>\n",
       "      <td>2008-02-04</td>\n",
       "      <td>Sydney</td>\n",
       "      <td>20.2</td>\n",
       "      <td>22.8</td>\n",
       "      <td>18.8</td>\n",
       "      <td>2.200000</td>\n",
       "      <td>0.0</td>\n",
       "      <td>83.0</td>\n",
       "      <td>90.0</td>\n",
       "      <td>1014.2</td>\n",
       "      <td>1011.8</td>\n",
       "      <td>8.0</td>\n",
       "      <td>8.0</td>\n",
       "      <td>21.4</td>\n",
       "      <td>20.9</td>\n",
       "      <td>Yes</td>\n",
       "      <td>Yes</td>\n",
       "    </tr>\n",
       "    <tr>\n",
       "      <th>4</th>\n",
       "      <td>2008-02-05</td>\n",
       "      <td>Sydney</td>\n",
       "      <td>19.7</td>\n",
       "      <td>25.7</td>\n",
       "      <td>77.4</td>\n",
       "      <td>5.187432</td>\n",
       "      <td>0.0</td>\n",
       "      <td>88.0</td>\n",
       "      <td>74.0</td>\n",
       "      <td>1008.3</td>\n",
       "      <td>1004.8</td>\n",
       "      <td>8.0</td>\n",
       "      <td>8.0</td>\n",
       "      <td>22.5</td>\n",
       "      <td>25.5</td>\n",
       "      <td>Yes</td>\n",
       "      <td>Yes</td>\n",
       "    </tr>\n",
       "  </tbody>\n",
       "</table>\n",
       "</div>"
      ],
      "text/plain": [
       "        Date Location  MinTemp  MaxTemp  Rainfall  Evaporation  Sunshine  \\\n",
       "0 2008-02-01   Sydney     19.5     22.4      15.6     6.200000       0.0   \n",
       "1 2008-02-02   Sydney     19.5     25.6       6.0     3.400000       2.7   \n",
       "2 2008-02-03   Sydney     21.6     24.5       6.6     2.400000       0.1   \n",
       "3 2008-02-04   Sydney     20.2     22.8      18.8     2.200000       0.0   \n",
       "4 2008-02-05   Sydney     19.7     25.7      77.4     5.187432       0.0   \n",
       "\n",
       "   Humidity9am  Humidity3pm  Pressure9am  Pressure3pm  Cloud9am  Cloud3pm  \\\n",
       "0         92.0         84.0       1017.6       1017.4       8.0       8.0   \n",
       "1         83.0         73.0       1017.9       1016.4       7.0       7.0   \n",
       "2         88.0         86.0       1016.7       1015.6       7.0       8.0   \n",
       "3         83.0         90.0       1014.2       1011.8       8.0       8.0   \n",
       "4         88.0         74.0       1008.3       1004.8       8.0       8.0   \n",
       "\n",
       "   Temp9am  Temp3pm RainToday RainTomorrow  \n",
       "0     20.7     20.9       Yes          Yes  \n",
       "1     22.4     24.8       Yes          Yes  \n",
       "2     23.5     23.0       Yes          Yes  \n",
       "3     21.4     20.9       Yes          Yes  \n",
       "4     22.5     25.5       Yes          Yes  "
      ]
     },
     "execution_count": 112,
     "metadata": {},
     "output_type": "execute_result"
    }
   ],
   "source": [
    "for column in df.select_dtypes(include=['float64', 'int64']).columns:\n",
    "    if df[column].isnull().any():\n",
    "        # Use mean to fill for numerical columns\n",
    "        df[column].fillna(df[column].mean(), inplace=True)\n",
    "\n",
    "# Display the first few rows to verify the changes\n",
    "df.head()"
   ]
  },
  {
   "cell_type": "code",
   "execution_count": 113,
   "id": "f76d00a8",
   "metadata": {},
   "outputs": [
    {
     "data": {
      "text/plain": [
       "Date            0\n",
       "Location        0\n",
       "MinTemp         0\n",
       "MaxTemp         0\n",
       "Rainfall        0\n",
       "Evaporation     0\n",
       "Sunshine        0\n",
       "Humidity9am     0\n",
       "Humidity3pm     0\n",
       "Pressure9am     0\n",
       "Pressure3pm     0\n",
       "Cloud9am        0\n",
       "Cloud3pm        0\n",
       "Temp9am         0\n",
       "Temp3pm         0\n",
       "RainToday       6\n",
       "RainTomorrow    0\n",
       "dtype: int64"
      ]
     },
     "execution_count": 113,
     "metadata": {},
     "output_type": "execute_result"
    }
   ],
   "source": [
    "df.isnull().sum()"
   ]
  },
  {
   "cell_type": "markdown",
   "id": "c95d852d",
   "metadata": {},
   "source": [
    "### For categorical variable filled null vaues with most frequent values i.e mode"
   ]
  },
  {
   "cell_type": "code",
   "execution_count": 114,
   "id": "3d8fbf26",
   "metadata": {},
   "outputs": [],
   "source": [
    "for column in df.select_dtypes(include=['object']).columns:\n",
    "    mode_value = df[column].mode()[0]\n",
    "    df[column] = df[column].fillna(mode_value)\n"
   ]
  },
  {
   "cell_type": "code",
   "execution_count": 115,
   "id": "a37ea88e",
   "metadata": {},
   "outputs": [
    {
     "data": {
      "text/html": [
       "<div>\n",
       "<style scoped>\n",
       "    .dataframe tbody tr th:only-of-type {\n",
       "        vertical-align: middle;\n",
       "    }\n",
       "\n",
       "    .dataframe tbody tr th {\n",
       "        vertical-align: top;\n",
       "    }\n",
       "\n",
       "    .dataframe thead th {\n",
       "        text-align: right;\n",
       "    }\n",
       "</style>\n",
       "<table border=\"1\" class=\"dataframe\">\n",
       "  <thead>\n",
       "    <tr style=\"text-align: right;\">\n",
       "      <th></th>\n",
       "      <th>Date</th>\n",
       "      <th>Location</th>\n",
       "      <th>MinTemp</th>\n",
       "      <th>MaxTemp</th>\n",
       "      <th>Rainfall</th>\n",
       "      <th>Evaporation</th>\n",
       "      <th>Sunshine</th>\n",
       "      <th>Humidity9am</th>\n",
       "      <th>Humidity3pm</th>\n",
       "      <th>Pressure9am</th>\n",
       "      <th>Pressure3pm</th>\n",
       "      <th>Cloud9am</th>\n",
       "      <th>Cloud3pm</th>\n",
       "      <th>Temp9am</th>\n",
       "      <th>Temp3pm</th>\n",
       "      <th>RainToday</th>\n",
       "      <th>RainTomorrow</th>\n",
       "    </tr>\n",
       "  </thead>\n",
       "  <tbody>\n",
       "    <tr>\n",
       "      <th>0</th>\n",
       "      <td>2008-02-01</td>\n",
       "      <td>Sydney</td>\n",
       "      <td>19.5</td>\n",
       "      <td>22.4</td>\n",
       "      <td>15.6</td>\n",
       "      <td>6.200000</td>\n",
       "      <td>0.0</td>\n",
       "      <td>92.0</td>\n",
       "      <td>84.0</td>\n",
       "      <td>1017.6</td>\n",
       "      <td>1017.4</td>\n",
       "      <td>8.0</td>\n",
       "      <td>8.0</td>\n",
       "      <td>20.7</td>\n",
       "      <td>20.9</td>\n",
       "      <td>Yes</td>\n",
       "      <td>Yes</td>\n",
       "    </tr>\n",
       "    <tr>\n",
       "      <th>1</th>\n",
       "      <td>2008-02-02</td>\n",
       "      <td>Sydney</td>\n",
       "      <td>19.5</td>\n",
       "      <td>25.6</td>\n",
       "      <td>6.0</td>\n",
       "      <td>3.400000</td>\n",
       "      <td>2.7</td>\n",
       "      <td>83.0</td>\n",
       "      <td>73.0</td>\n",
       "      <td>1017.9</td>\n",
       "      <td>1016.4</td>\n",
       "      <td>7.0</td>\n",
       "      <td>7.0</td>\n",
       "      <td>22.4</td>\n",
       "      <td>24.8</td>\n",
       "      <td>Yes</td>\n",
       "      <td>Yes</td>\n",
       "    </tr>\n",
       "    <tr>\n",
       "      <th>2</th>\n",
       "      <td>2008-02-03</td>\n",
       "      <td>Sydney</td>\n",
       "      <td>21.6</td>\n",
       "      <td>24.5</td>\n",
       "      <td>6.6</td>\n",
       "      <td>2.400000</td>\n",
       "      <td>0.1</td>\n",
       "      <td>88.0</td>\n",
       "      <td>86.0</td>\n",
       "      <td>1016.7</td>\n",
       "      <td>1015.6</td>\n",
       "      <td>7.0</td>\n",
       "      <td>8.0</td>\n",
       "      <td>23.5</td>\n",
       "      <td>23.0</td>\n",
       "      <td>Yes</td>\n",
       "      <td>Yes</td>\n",
       "    </tr>\n",
       "    <tr>\n",
       "      <th>3</th>\n",
       "      <td>2008-02-04</td>\n",
       "      <td>Sydney</td>\n",
       "      <td>20.2</td>\n",
       "      <td>22.8</td>\n",
       "      <td>18.8</td>\n",
       "      <td>2.200000</td>\n",
       "      <td>0.0</td>\n",
       "      <td>83.0</td>\n",
       "      <td>90.0</td>\n",
       "      <td>1014.2</td>\n",
       "      <td>1011.8</td>\n",
       "      <td>8.0</td>\n",
       "      <td>8.0</td>\n",
       "      <td>21.4</td>\n",
       "      <td>20.9</td>\n",
       "      <td>Yes</td>\n",
       "      <td>Yes</td>\n",
       "    </tr>\n",
       "    <tr>\n",
       "      <th>4</th>\n",
       "      <td>2008-02-05</td>\n",
       "      <td>Sydney</td>\n",
       "      <td>19.7</td>\n",
       "      <td>25.7</td>\n",
       "      <td>77.4</td>\n",
       "      <td>5.187432</td>\n",
       "      <td>0.0</td>\n",
       "      <td>88.0</td>\n",
       "      <td>74.0</td>\n",
       "      <td>1008.3</td>\n",
       "      <td>1004.8</td>\n",
       "      <td>8.0</td>\n",
       "      <td>8.0</td>\n",
       "      <td>22.5</td>\n",
       "      <td>25.5</td>\n",
       "      <td>Yes</td>\n",
       "      <td>Yes</td>\n",
       "    </tr>\n",
       "  </tbody>\n",
       "</table>\n",
       "</div>"
      ],
      "text/plain": [
       "        Date Location  MinTemp  MaxTemp  Rainfall  Evaporation  Sunshine  \\\n",
       "0 2008-02-01   Sydney     19.5     22.4      15.6     6.200000       0.0   \n",
       "1 2008-02-02   Sydney     19.5     25.6       6.0     3.400000       2.7   \n",
       "2 2008-02-03   Sydney     21.6     24.5       6.6     2.400000       0.1   \n",
       "3 2008-02-04   Sydney     20.2     22.8      18.8     2.200000       0.0   \n",
       "4 2008-02-05   Sydney     19.7     25.7      77.4     5.187432       0.0   \n",
       "\n",
       "   Humidity9am  Humidity3pm  Pressure9am  Pressure3pm  Cloud9am  Cloud3pm  \\\n",
       "0         92.0         84.0       1017.6       1017.4       8.0       8.0   \n",
       "1         83.0         73.0       1017.9       1016.4       7.0       7.0   \n",
       "2         88.0         86.0       1016.7       1015.6       7.0       8.0   \n",
       "3         83.0         90.0       1014.2       1011.8       8.0       8.0   \n",
       "4         88.0         74.0       1008.3       1004.8       8.0       8.0   \n",
       "\n",
       "   Temp9am  Temp3pm RainToday RainTomorrow  \n",
       "0     20.7     20.9       Yes          Yes  \n",
       "1     22.4     24.8       Yes          Yes  \n",
       "2     23.5     23.0       Yes          Yes  \n",
       "3     21.4     20.9       Yes          Yes  \n",
       "4     22.5     25.5       Yes          Yes  "
      ]
     },
     "execution_count": 115,
     "metadata": {},
     "output_type": "execute_result"
    }
   ],
   "source": [
    "df.head()"
   ]
  },
  {
   "cell_type": "code",
   "execution_count": 116,
   "id": "3301f49c",
   "metadata": {},
   "outputs": [
    {
     "data": {
      "text/plain": [
       "Date            0\n",
       "Location        0\n",
       "MinTemp         0\n",
       "MaxTemp         0\n",
       "Rainfall        0\n",
       "Evaporation     0\n",
       "Sunshine        0\n",
       "Humidity9am     0\n",
       "Humidity3pm     0\n",
       "Pressure9am     0\n",
       "Pressure3pm     0\n",
       "Cloud9am        0\n",
       "Cloud3pm        0\n",
       "Temp9am         0\n",
       "Temp3pm         0\n",
       "RainToday       0\n",
       "RainTomorrow    0\n",
       "dtype: int64"
      ]
     },
     "execution_count": 116,
     "metadata": {},
     "output_type": "execute_result"
    }
   ],
   "source": [
    "df.isnull().sum()"
   ]
  },
  {
   "cell_type": "markdown",
   "id": "21452777",
   "metadata": {},
   "source": [
    "### Checking for outliers in dataset"
   ]
  },
  {
   "cell_type": "code",
   "execution_count": 117,
   "id": "1b78adec",
   "metadata": {},
   "outputs": [
    {
     "data": {
      "image/png": "[encoded data removed]",
      "text/plain": [
       "<Figure size 640x480 with 1 Axes>"
      ]
     },
     "metadata": {},
     "output_type": "display_data"
    },
    {
     "data": {
      "image/png": "[encoded data removed]",
      "text/plain": [
       "<Figure size 640x480 with 1 Axes>"
      ]
     },
     "metadata": {},
     "output_type": "display_data"
    },
    {
     "data": {
      "image/png": "[encoded data removed]",
      "text/plain": [
       "<Figure size 640x480 with 1 Axes>"
      ]
     },
     "metadata": {},
     "output_type": "display_data"
    },
    {
     "data": {
      "image/png": "[encoded data removed]",
      "text/plain": [
       "<Figure size 640x480 with 1 Axes>"
      ]
     },
     "metadata": {},
     "output_type": "display_data"
    },
    {
     "data": {
      "image/png": "[encoded data removed]",
      "text/plain": [
       "<Figure size 640x480 with 1 Axes>"
      ]
     },
     "metadata": {},
     "output_type": "display_data"
    },
    {
     "data": {
      "image/png": "[encoded data removed]",
      "text/plain": [
       "<Figure size 640x480 with 1 Axes>"
      ]
     },
     "metadata": {},
     "output_type": "display_data"
    },
    {
     "data": {
      "image/png": "[encoded data removed]",
      "text/plain": [
       "<Figure size 640x480 with 1 Axes>"
      ]
     },
     "metadata": {},
     "output_type": "display_data"
    },
    {
     "data": {
      "image/png": "[encoded data removed]",
      "text/plain": [
       "<Figure size 640x480 with 1 Axes>"
      ]
     },
     "metadata": {},
     "output_type": "display_data"
    },
    {
     "data": {
      "image/png": "[encoded data removed]",
      "text/plain": [
       "<Figure size 640x480 with 1 Axes>"
      ]
     },
     "metadata": {},
     "output_type": "display_data"
    },
    {
     "data": {
      "image/png": "[encoded data removed]",
      "text/plain": [
       "<Figure size 640x480 with 1 Axes>"
      ]
     },
     "metadata": {},
     "output_type": "display_data"
    },
    {
     "data": {
      "image/png": "[encoded data removed]",
      "text/plain": [
       "<Figure size 640x480 with 1 Axes>"
      ]
     },
     "metadata": {},
     "output_type": "display_data"
    },
    {
     "data": {
      "image/png": "[encoded data removed]",
      "text/plain": [
       "<Figure size 640x480 with 1 Axes>"
      ]
     },
     "metadata": {},
     "output_type": "display_data"
    },
    {
     "data": {
      "image/png": "[encoded data removed]",
      "text/plain": [
       "<Figure size 640x480 with 1 Axes>"
      ]
     },
     "metadata": {},
     "output_type": "display_data"
    }
   ],
   "source": [
    "for col in df.select_dtypes(include=np.number).columns:\n",
    "    sns.boxplot(x=df[col])\n",
    "    plt.show()\n"
   ]
  },
  {
   "cell_type": "markdown",
   "id": "b1071707",
   "metadata": {},
   "source": [
    "### Outlier Treatment"
   ]
  },
  {
   "cell_type": "code",
   "execution_count": 118,
   "id": "00604674",
   "metadata": {},
   "outputs": [
    {
     "name": "stderr",
     "output_type": "stream",
     "text": [
      "C:\\Users\\HP HDD\\AppData\\Local\\Temp\\ipykernel_20964\\24173769.py:1: FutureWarning: The default value of numeric_only in DataFrame.quantile is deprecated. In a future version, it will default to False. Select only valid columns or specify the value of numeric_only to silence this warning.\n",
      "  Q1 = df.quantile(0.25)\n",
      "C:\\Users\\HP HDD\\AppData\\Local\\Temp\\ipykernel_20964\\24173769.py:2: FutureWarning: The default value of numeric_only in DataFrame.quantile is deprecated. In a future version, it will default to False. Select only valid columns or specify the value of numeric_only to silence this warning.\n",
      "  Q3 = df.quantile(0.75)\n"
     ]
    },
    {
     "data": {
      "image/png": "[encoded data removed]",
      "text/plain": [
       "<Figure size 640x480 with 1 Axes>"
      ]
     },
     "metadata": {},
     "output_type": "display_data"
    },
    {
     "data": {
      "image/png": "[encoded data removed]",
      "text/plain": [
       "<Figure size 640x480 with 1 Axes>"
      ]
     },
     "metadata": {},
     "output_type": "display_data"
    },
    {
     "data": {
      "image/png": "[encoded data removed]",
      "text/plain": [
       "<Figure size 640x480 with 1 Axes>"
      ]
     },
     "metadata": {},
     "output_type": "display_data"
    },
    {
     "data": {
      "image/png": "[encoded data removed]",
      "text/plain": [
       "<Figure size 640x480 with 1 Axes>"
      ]
     },
     "metadata": {},
     "output_type": "display_data"
    },
    {
     "data": {
      "image/png": "[encoded data removed]",
      "text/plain": [
       "<Figure size 640x480 with 1 Axes>"
      ]
     },
     "metadata": {},
     "output_type": "display_data"
    },
    {
     "data": {
      "image/png": "[encoded data removed]",
      "text/plain": [
       "<Figure size 640x480 with 1 Axes>"
      ]
     },
     "metadata": {},
     "output_type": "display_data"
    },
    {
     "data": {
      "image/png": "[encoded data removed]",
      "text/plain": [
       "<Figure size 640x480 with 1 Axes>"
      ]
     },
     "metadata": {},
     "output_type": "display_data"
    },
    {
     "data": {
      "image/png": "[encoded data removed]",
      "text/plain": [
       "<Figure size 640x480 with 1 Axes>"
      ]
     },
     "metadata": {},
     "output_type": "display_data"
    },
    {
     "data": {
      "image/png": "[encoded data removed]",
      "text/plain": [
       "<Figure size 640x480 with 1 Axes>"
      ]
     },
     "metadata": {},
     "output_type": "display_data"
    },
    {
     "data": {
      "image/png": "[encoded data removed]",
      "text/plain": [
       "<Figure size 640x480 with 1 Axes>"
      ]
     },
     "metadata": {},
     "output_type": "display_data"
    },
    {
     "data": {
      "image/png": "[encoded data removed]",
      "text/plain": [
       "<Figure size 640x480 with 1 Axes>"
      ]
     },
     "metadata": {},
     "output_type": "display_data"
    },
    {
     "data": {
      "image/png": "[encoded data removed]",
      "text/plain": [
       "<Figure size 640x480 with 1 Axes>"
      ]
     },
     "metadata": {},
     "output_type": "display_data"
    },
    {
     "data": {
      "image/png": "[encoded data removed]",
      "text/plain": [
       "<Figure size 640x480 with 1 Axes>"
      ]
     },
     "metadata": {},
     "output_type": "display_data"
    }
   ],
   "source": [
    "Q1 = df.quantile(0.25)\n",
    "Q3 = df.quantile(0.75)\n",
    "IQR = Q3 - Q1\n",
    "\n",
    "# Calculate the lower and upper bounds for each feature\n",
    "lower_bound = Q1 - (1.5 * IQR)\n",
    "upper_bound = Q3 + (1.5 * IQR)\n",
    "\n",
    "# Replace outliers with the lower or upper bound\n",
    "for col in df.select_dtypes(include=np.number).columns:\n",
    "    df[col] = np.where((df[col] < lower_bound[col]), lower_bound[col], df[col])\n",
    "    df[col] = np.where((df[col] > upper_bound[col]), upper_bound[col], df[col])\n",
    "\n",
    "# Check for outliers again\n",
    "for col in df.select_dtypes(include=np.number).columns:\n",
    "    sns.boxplot(x=df[col])\n",
    "    plt.show()\n"
   ]
  },
  {
   "cell_type": "code",
   "execution_count": 119,
   "id": "635e892a",
   "metadata": {},
   "outputs": [],
   "source": [
    "df = pd.get_dummies(df, columns = ['RainToday', 'RainTomorrow'], drop_first = True)"
   ]
  },
  {
   "cell_type": "code",
   "execution_count": 120,
   "id": "88ac6292",
   "metadata": {},
   "outputs": [
    {
     "data": {
      "text/html": [
       "<div>\n",
       "<style scoped>\n",
       "    .dataframe tbody tr th:only-of-type {\n",
       "        vertical-align: middle;\n",
       "    }\n",
       "\n",
       "    .dataframe tbody tr th {\n",
       "        vertical-align: top;\n",
       "    }\n",
       "\n",
       "    .dataframe thead th {\n",
       "        text-align: right;\n",
       "    }\n",
       "</style>\n",
       "<table border=\"1\" class=\"dataframe\">\n",
       "  <thead>\n",
       "    <tr style=\"text-align: right;\">\n",
       "      <th></th>\n",
       "      <th>Date</th>\n",
       "      <th>Location</th>\n",
       "      <th>MinTemp</th>\n",
       "      <th>MaxTemp</th>\n",
       "      <th>Rainfall</th>\n",
       "      <th>Evaporation</th>\n",
       "      <th>Sunshine</th>\n",
       "      <th>Humidity9am</th>\n",
       "      <th>Humidity3pm</th>\n",
       "      <th>Pressure9am</th>\n",
       "      <th>Pressure3pm</th>\n",
       "      <th>Cloud9am</th>\n",
       "      <th>Cloud3pm</th>\n",
       "      <th>Temp9am</th>\n",
       "      <th>Temp3pm</th>\n",
       "      <th>RainToday_Yes</th>\n",
       "      <th>RainTomorrow_Yes</th>\n",
       "    </tr>\n",
       "  </thead>\n",
       "  <tbody>\n",
       "    <tr>\n",
       "      <th>0</th>\n",
       "      <td>2008-02-01</td>\n",
       "      <td>Sydney</td>\n",
       "      <td>19.5</td>\n",
       "      <td>22.4</td>\n",
       "      <td>3.5</td>\n",
       "      <td>6.200000</td>\n",
       "      <td>0.0</td>\n",
       "      <td>92.0</td>\n",
       "      <td>84.0</td>\n",
       "      <td>1017.60</td>\n",
       "      <td>1017.4</td>\n",
       "      <td>8.0</td>\n",
       "      <td>8.0</td>\n",
       "      <td>20.7</td>\n",
       "      <td>20.9</td>\n",
       "      <td>1</td>\n",
       "      <td>1</td>\n",
       "    </tr>\n",
       "    <tr>\n",
       "      <th>1</th>\n",
       "      <td>2008-02-02</td>\n",
       "      <td>Sydney</td>\n",
       "      <td>19.5</td>\n",
       "      <td>25.6</td>\n",
       "      <td>3.5</td>\n",
       "      <td>3.400000</td>\n",
       "      <td>2.7</td>\n",
       "      <td>83.0</td>\n",
       "      <td>73.0</td>\n",
       "      <td>1017.90</td>\n",
       "      <td>1016.4</td>\n",
       "      <td>7.0</td>\n",
       "      <td>7.0</td>\n",
       "      <td>22.4</td>\n",
       "      <td>24.8</td>\n",
       "      <td>1</td>\n",
       "      <td>1</td>\n",
       "    </tr>\n",
       "    <tr>\n",
       "      <th>2</th>\n",
       "      <td>2008-02-03</td>\n",
       "      <td>Sydney</td>\n",
       "      <td>21.6</td>\n",
       "      <td>24.5</td>\n",
       "      <td>3.5</td>\n",
       "      <td>2.400000</td>\n",
       "      <td>0.1</td>\n",
       "      <td>88.0</td>\n",
       "      <td>86.0</td>\n",
       "      <td>1016.70</td>\n",
       "      <td>1015.6</td>\n",
       "      <td>7.0</td>\n",
       "      <td>8.0</td>\n",
       "      <td>23.5</td>\n",
       "      <td>23.0</td>\n",
       "      <td>1</td>\n",
       "      <td>1</td>\n",
       "    </tr>\n",
       "    <tr>\n",
       "      <th>3</th>\n",
       "      <td>2008-02-04</td>\n",
       "      <td>Sydney</td>\n",
       "      <td>20.2</td>\n",
       "      <td>22.8</td>\n",
       "      <td>3.5</td>\n",
       "      <td>2.200000</td>\n",
       "      <td>0.0</td>\n",
       "      <td>83.0</td>\n",
       "      <td>90.0</td>\n",
       "      <td>1014.20</td>\n",
       "      <td>1011.8</td>\n",
       "      <td>8.0</td>\n",
       "      <td>8.0</td>\n",
       "      <td>21.4</td>\n",
       "      <td>20.9</td>\n",
       "      <td>1</td>\n",
       "      <td>1</td>\n",
       "    </tr>\n",
       "    <tr>\n",
       "      <th>4</th>\n",
       "      <td>2008-02-05</td>\n",
       "      <td>Sydney</td>\n",
       "      <td>19.7</td>\n",
       "      <td>25.7</td>\n",
       "      <td>3.5</td>\n",
       "      <td>5.187432</td>\n",
       "      <td>0.0</td>\n",
       "      <td>88.0</td>\n",
       "      <td>74.0</td>\n",
       "      <td>1008.30</td>\n",
       "      <td>1004.8</td>\n",
       "      <td>8.0</td>\n",
       "      <td>8.0</td>\n",
       "      <td>22.5</td>\n",
       "      <td>25.5</td>\n",
       "      <td>1</td>\n",
       "      <td>1</td>\n",
       "    </tr>\n",
       "    <tr>\n",
       "      <th>5</th>\n",
       "      <td>2008-02-06</td>\n",
       "      <td>Sydney</td>\n",
       "      <td>20.2</td>\n",
       "      <td>27.2</td>\n",
       "      <td>1.6</td>\n",
       "      <td>2.600000</td>\n",
       "      <td>8.6</td>\n",
       "      <td>69.0</td>\n",
       "      <td>62.0</td>\n",
       "      <td>1002.70</td>\n",
       "      <td>998.6</td>\n",
       "      <td>6.0</td>\n",
       "      <td>6.0</td>\n",
       "      <td>23.8</td>\n",
       "      <td>26.0</td>\n",
       "      <td>1</td>\n",
       "      <td>1</td>\n",
       "    </tr>\n",
       "    <tr>\n",
       "      <th>6</th>\n",
       "      <td>2008-02-07</td>\n",
       "      <td>Sydney</td>\n",
       "      <td>18.6</td>\n",
       "      <td>26.3</td>\n",
       "      <td>3.5</td>\n",
       "      <td>5.200000</td>\n",
       "      <td>5.2</td>\n",
       "      <td>75.0</td>\n",
       "      <td>80.0</td>\n",
       "      <td>999.85</td>\n",
       "      <td>1000.3</td>\n",
       "      <td>4.0</td>\n",
       "      <td>7.0</td>\n",
       "      <td>21.7</td>\n",
       "      <td>22.3</td>\n",
       "      <td>1</td>\n",
       "      <td>1</td>\n",
       "    </tr>\n",
       "    <tr>\n",
       "      <th>7</th>\n",
       "      <td>2008-02-08</td>\n",
       "      <td>Sydney</td>\n",
       "      <td>17.2</td>\n",
       "      <td>22.3</td>\n",
       "      <td>3.5</td>\n",
       "      <td>5.800000</td>\n",
       "      <td>2.1</td>\n",
       "      <td>77.0</td>\n",
       "      <td>61.0</td>\n",
       "      <td>1008.30</td>\n",
       "      <td>1007.4</td>\n",
       "      <td>7.0</td>\n",
       "      <td>8.0</td>\n",
       "      <td>18.9</td>\n",
       "      <td>21.1</td>\n",
       "      <td>1</td>\n",
       "      <td>1</td>\n",
       "    </tr>\n",
       "    <tr>\n",
       "      <th>8</th>\n",
       "      <td>2008-02-09</td>\n",
       "      <td>Sydney</td>\n",
       "      <td>16.4</td>\n",
       "      <td>20.8</td>\n",
       "      <td>3.5</td>\n",
       "      <td>4.800000</td>\n",
       "      <td>3.0</td>\n",
       "      <td>92.0</td>\n",
       "      <td>91.0</td>\n",
       "      <td>1006.40</td>\n",
       "      <td>1007.6</td>\n",
       "      <td>7.0</td>\n",
       "      <td>7.0</td>\n",
       "      <td>17.1</td>\n",
       "      <td>16.5</td>\n",
       "      <td>1</td>\n",
       "      <td>1</td>\n",
       "    </tr>\n",
       "    <tr>\n",
       "      <th>9</th>\n",
       "      <td>2008-02-10</td>\n",
       "      <td>Sydney</td>\n",
       "      <td>14.6</td>\n",
       "      <td>24.2</td>\n",
       "      <td>3.5</td>\n",
       "      <td>4.400000</td>\n",
       "      <td>10.1</td>\n",
       "      <td>80.0</td>\n",
       "      <td>53.0</td>\n",
       "      <td>1014.00</td>\n",
       "      <td>1013.4</td>\n",
       "      <td>4.0</td>\n",
       "      <td>2.0</td>\n",
       "      <td>17.2</td>\n",
       "      <td>23.3</td>\n",
       "      <td>1</td>\n",
       "      <td>0</td>\n",
       "    </tr>\n",
       "    <tr>\n",
       "      <th>10</th>\n",
       "      <td>2008-02-11</td>\n",
       "      <td>Sydney</td>\n",
       "      <td>16.4</td>\n",
       "      <td>23.9</td>\n",
       "      <td>0.0</td>\n",
       "      <td>6.400000</td>\n",
       "      <td>8.0</td>\n",
       "      <td>78.0</td>\n",
       "      <td>53.0</td>\n",
       "      <td>1017.60</td>\n",
       "      <td>1015.3</td>\n",
       "      <td>7.0</td>\n",
       "      <td>8.0</td>\n",
       "      <td>18.9</td>\n",
       "      <td>23.7</td>\n",
       "      <td>0</td>\n",
       "      <td>0</td>\n",
       "    </tr>\n",
       "    <tr>\n",
       "      <th>11</th>\n",
       "      <td>2008-02-12</td>\n",
       "      <td>Sydney</td>\n",
       "      <td>18.9</td>\n",
       "      <td>27.3</td>\n",
       "      <td>0.0</td>\n",
       "      <td>6.800000</td>\n",
       "      <td>6.7</td>\n",
       "      <td>68.0</td>\n",
       "      <td>67.0</td>\n",
       "      <td>1010.70</td>\n",
       "      <td>1007.5</td>\n",
       "      <td>7.0</td>\n",
       "      <td>7.0</td>\n",
       "      <td>22.9</td>\n",
       "      <td>24.7</td>\n",
       "      <td>0</td>\n",
       "      <td>1</td>\n",
       "    </tr>\n",
       "    <tr>\n",
       "      <th>12</th>\n",
       "      <td>2008-02-13</td>\n",
       "      <td>Sydney</td>\n",
       "      <td>18.4</td>\n",
       "      <td>22.8</td>\n",
       "      <td>3.5</td>\n",
       "      <td>7.000000</td>\n",
       "      <td>3.3</td>\n",
       "      <td>87.0</td>\n",
       "      <td>70.0</td>\n",
       "      <td>1009.20</td>\n",
       "      <td>1011.7</td>\n",
       "      <td>8.0</td>\n",
       "      <td>7.0</td>\n",
       "      <td>20.9</td>\n",
       "      <td>21.0</td>\n",
       "      <td>1</td>\n",
       "      <td>1</td>\n",
       "    </tr>\n",
       "    <tr>\n",
       "      <th>13</th>\n",
       "      <td>2008-02-14</td>\n",
       "      <td>Sydney</td>\n",
       "      <td>16.9</td>\n",
       "      <td>24.3</td>\n",
       "      <td>3.0</td>\n",
       "      <td>3.200000</td>\n",
       "      <td>8.7</td>\n",
       "      <td>81.0</td>\n",
       "      <td>51.0</td>\n",
       "      <td>1017.20</td>\n",
       "      <td>1016.5</td>\n",
       "      <td>7.0</td>\n",
       "      <td>1.0</td>\n",
       "      <td>18.4</td>\n",
       "      <td>23.3</td>\n",
       "      <td>1</td>\n",
       "      <td>0</td>\n",
       "    </tr>\n",
       "    <tr>\n",
       "      <th>14</th>\n",
       "      <td>2008-02-15</td>\n",
       "      <td>Sydney</td>\n",
       "      <td>18.3</td>\n",
       "      <td>24.4</td>\n",
       "      <td>0.0</td>\n",
       "      <td>6.200000</td>\n",
       "      <td>8.5</td>\n",
       "      <td>80.0</td>\n",
       "      <td>56.0</td>\n",
       "      <td>1020.20</td>\n",
       "      <td>1018.9</td>\n",
       "      <td>7.0</td>\n",
       "      <td>3.0</td>\n",
       "      <td>19.5</td>\n",
       "      <td>23.8</td>\n",
       "      <td>0</td>\n",
       "      <td>0</td>\n",
       "    </tr>\n",
       "    <tr>\n",
       "      <th>15</th>\n",
       "      <td>2008-02-16</td>\n",
       "      <td>Sydney</td>\n",
       "      <td>16.7</td>\n",
       "      <td>24.1</td>\n",
       "      <td>0.0</td>\n",
       "      <td>6.200000</td>\n",
       "      <td>8.8</td>\n",
       "      <td>77.0</td>\n",
       "      <td>52.0</td>\n",
       "      <td>1023.00</td>\n",
       "      <td>1022.6</td>\n",
       "      <td>7.0</td>\n",
       "      <td>6.0</td>\n",
       "      <td>19.8</td>\n",
       "      <td>23.3</td>\n",
       "      <td>0</td>\n",
       "      <td>0</td>\n",
       "    </tr>\n",
       "    <tr>\n",
       "      <th>16</th>\n",
       "      <td>2008-02-17</td>\n",
       "      <td>Sydney</td>\n",
       "      <td>19.5</td>\n",
       "      <td>24.8</td>\n",
       "      <td>0.0</td>\n",
       "      <td>7.600000</td>\n",
       "      <td>3.2</td>\n",
       "      <td>63.0</td>\n",
       "      <td>62.0</td>\n",
       "      <td>1024.70</td>\n",
       "      <td>1023.1</td>\n",
       "      <td>7.0</td>\n",
       "      <td>7.0</td>\n",
       "      <td>21.8</td>\n",
       "      <td>23.4</td>\n",
       "      <td>0</td>\n",
       "      <td>0</td>\n",
       "    </tr>\n",
       "    <tr>\n",
       "      <th>17</th>\n",
       "      <td>2008-02-18</td>\n",
       "      <td>Sydney</td>\n",
       "      <td>18.6</td>\n",
       "      <td>25.3</td>\n",
       "      <td>0.0</td>\n",
       "      <td>4.200000</td>\n",
       "      <td>4.5</td>\n",
       "      <td>70.0</td>\n",
       "      <td>59.0</td>\n",
       "      <td>1021.70</td>\n",
       "      <td>1019.4</td>\n",
       "      <td>7.0</td>\n",
       "      <td>6.0</td>\n",
       "      <td>21.2</td>\n",
       "      <td>23.8</td>\n",
       "      <td>0</td>\n",
       "      <td>0</td>\n",
       "    </tr>\n",
       "    <tr>\n",
       "      <th>18</th>\n",
       "      <td>2008-02-19</td>\n",
       "      <td>Sydney</td>\n",
       "      <td>19.0</td>\n",
       "      <td>24.8</td>\n",
       "      <td>0.0</td>\n",
       "      <td>5.200000</td>\n",
       "      <td>7.5</td>\n",
       "      <td>79.0</td>\n",
       "      <td>65.0</td>\n",
       "      <td>1018.00</td>\n",
       "      <td>1015.4</td>\n",
       "      <td>7.0</td>\n",
       "      <td>7.0</td>\n",
       "      <td>20.8</td>\n",
       "      <td>23.4</td>\n",
       "      <td>0</td>\n",
       "      <td>0</td>\n",
       "    </tr>\n",
       "    <tr>\n",
       "      <th>19</th>\n",
       "      <td>2008-02-20</td>\n",
       "      <td>Sydney</td>\n",
       "      <td>18.3</td>\n",
       "      <td>26.4</td>\n",
       "      <td>0.0</td>\n",
       "      <td>4.600000</td>\n",
       "      <td>11.1</td>\n",
       "      <td>80.0</td>\n",
       "      <td>60.0</td>\n",
       "      <td>1013.40</td>\n",
       "      <td>1010.8</td>\n",
       "      <td>3.0</td>\n",
       "      <td>1.0</td>\n",
       "      <td>21.3</td>\n",
       "      <td>25.2</td>\n",
       "      <td>0</td>\n",
       "      <td>0</td>\n",
       "    </tr>\n",
       "  </tbody>\n",
       "</table>\n",
       "</div>"
      ],
      "text/plain": [
       "         Date Location  MinTemp  MaxTemp  Rainfall  Evaporation  Sunshine  \\\n",
       "0  2008-02-01   Sydney     19.5     22.4       3.5     6.200000       0.0   \n",
       "1  2008-02-02   Sydney     19.5     25.6       3.5     3.400000       2.7   \n",
       "2  2008-02-03   Sydney     21.6     24.5       3.5     2.400000       0.1   \n",
       "3  2008-02-04   Sydney     20.2     22.8       3.5     2.200000       0.0   \n",
       "4  2008-02-05   Sydney     19.7     25.7       3.5     5.187432       0.0   \n",
       "5  2008-02-06   Sydney     20.2     27.2       1.6     2.600000       8.6   \n",
       "6  2008-02-07   Sydney     18.6     26.3       3.5     5.200000       5.2   \n",
       "7  2008-02-08   Sydney     17.2     22.3       3.5     5.800000       2.1   \n",
       "8  2008-02-09   Sydney     16.4     20.8       3.5     4.800000       3.0   \n",
       "9  2008-02-10   Sydney     14.6     24.2       3.5     4.400000      10.1   \n",
       "10 2008-02-11   Sydney     16.4     23.9       0.0     6.400000       8.0   \n",
       "11 2008-02-12   Sydney     18.9     27.3       0.0     6.800000       6.7   \n",
       "12 2008-02-13   Sydney     18.4     22.8       3.5     7.000000       3.3   \n",
       "13 2008-02-14   Sydney     16.9     24.3       3.0     3.200000       8.7   \n",
       "14 2008-02-15   Sydney     18.3     24.4       0.0     6.200000       8.5   \n",
       "15 2008-02-16   Sydney     16.7     24.1       0.0     6.200000       8.8   \n",
       "16 2008-02-17   Sydney     19.5     24.8       0.0     7.600000       3.2   \n",
       "17 2008-02-18   Sydney     18.6     25.3       0.0     4.200000       4.5   \n",
       "18 2008-02-19   Sydney     19.0     24.8       0.0     5.200000       7.5   \n",
       "19 2008-02-20   Sydney     18.3     26.4       0.0     4.600000      11.1   \n",
       "\n",
       "    Humidity9am  Humidity3pm  Pressure9am  Pressure3pm  Cloud9am  Cloud3pm  \\\n",
       "0          92.0         84.0      1017.60       1017.4       8.0       8.0   \n",
       "1          83.0         73.0      1017.90       1016.4       7.0       7.0   \n",
       "2          88.0         86.0      1016.70       1015.6       7.0       8.0   \n",
       "3          83.0         90.0      1014.20       1011.8       8.0       8.0   \n",
       "4          88.0         74.0      1008.30       1004.8       8.0       8.0   \n",
       "5          69.0         62.0      1002.70        998.6       6.0       6.0   \n",
       "6          75.0         80.0       999.85       1000.3       4.0       7.0   \n",
       "7          77.0         61.0      1008.30       1007.4       7.0       8.0   \n",
       "8          92.0         91.0      1006.40       1007.6       7.0       7.0   \n",
       "9          80.0         53.0      1014.00       1013.4       4.0       2.0   \n",
       "10         78.0         53.0      1017.60       1015.3       7.0       8.0   \n",
       "11         68.0         67.0      1010.70       1007.5       7.0       7.0   \n",
       "12         87.0         70.0      1009.20       1011.7       8.0       7.0   \n",
       "13         81.0         51.0      1017.20       1016.5       7.0       1.0   \n",
       "14         80.0         56.0      1020.20       1018.9       7.0       3.0   \n",
       "15         77.0         52.0      1023.00       1022.6       7.0       6.0   \n",
       "16         63.0         62.0      1024.70       1023.1       7.0       7.0   \n",
       "17         70.0         59.0      1021.70       1019.4       7.0       6.0   \n",
       "18         79.0         65.0      1018.00       1015.4       7.0       7.0   \n",
       "19         80.0         60.0      1013.40       1010.8       3.0       1.0   \n",
       "\n",
       "    Temp9am  Temp3pm  RainToday_Yes  RainTomorrow_Yes  \n",
       "0      20.7     20.9              1                 1  \n",
       "1      22.4     24.8              1                 1  \n",
       "2      23.5     23.0              1                 1  \n",
       "3      21.4     20.9              1                 1  \n",
       "4      22.5     25.5              1                 1  \n",
       "5      23.8     26.0              1                 1  \n",
       "6      21.7     22.3              1                 1  \n",
       "7      18.9     21.1              1                 1  \n",
       "8      17.1     16.5              1                 1  \n",
       "9      17.2     23.3              1                 0  \n",
       "10     18.9     23.7              0                 0  \n",
       "11     22.9     24.7              0                 1  \n",
       "12     20.9     21.0              1                 1  \n",
       "13     18.4     23.3              1                 0  \n",
       "14     19.5     23.8              0                 0  \n",
       "15     19.8     23.3              0                 0  \n",
       "16     21.8     23.4              0                 0  \n",
       "17     21.2     23.8              0                 0  \n",
       "18     20.8     23.4              0                 0  \n",
       "19     21.3     25.2              0                 0  "
      ]
     },
     "execution_count": 120,
     "metadata": {},
     "output_type": "execute_result"
    }
   ],
   "source": [
    "df.head(20)"
   ]
  },
  {
   "cell_type": "code",
   "execution_count": 121,
   "id": "6743fb3c",
   "metadata": {},
   "outputs": [
    {
     "data": {
      "text/html": [
       "<div>\n",
       "<style scoped>\n",
       "    .dataframe tbody tr th:only-of-type {\n",
       "        vertical-align: middle;\n",
       "    }\n",
       "\n",
       "    .dataframe tbody tr th {\n",
       "        vertical-align: top;\n",
       "    }\n",
       "\n",
       "    .dataframe thead th {\n",
       "        text-align: right;\n",
       "    }\n",
       "</style>\n",
       "<table border=\"1\" class=\"dataframe\">\n",
       "  <thead>\n",
       "    <tr style=\"text-align: right;\">\n",
       "      <th></th>\n",
       "      <th>MinTemp</th>\n",
       "      <th>MaxTemp</th>\n",
       "      <th>Rainfall</th>\n",
       "      <th>Evaporation</th>\n",
       "      <th>Sunshine</th>\n",
       "      <th>Humidity9am</th>\n",
       "      <th>Humidity3pm</th>\n",
       "      <th>Pressure9am</th>\n",
       "      <th>Pressure3pm</th>\n",
       "      <th>Cloud9am</th>\n",
       "      <th>Cloud3pm</th>\n",
       "      <th>Temp9am</th>\n",
       "      <th>Temp3pm</th>\n",
       "      <th>RainToday_Yes</th>\n",
       "      <th>RainTomorrow_Yes</th>\n",
       "    </tr>\n",
       "  </thead>\n",
       "  <tbody>\n",
       "    <tr>\n",
       "      <th>0</th>\n",
       "      <td>19.5</td>\n",
       "      <td>22.4</td>\n",
       "      <td>3.5</td>\n",
       "      <td>6.200000</td>\n",
       "      <td>0.0</td>\n",
       "      <td>92.0</td>\n",
       "      <td>84.0</td>\n",
       "      <td>1017.6</td>\n",
       "      <td>1017.4</td>\n",
       "      <td>8.0</td>\n",
       "      <td>8.0</td>\n",
       "      <td>20.7</td>\n",
       "      <td>20.9</td>\n",
       "      <td>1</td>\n",
       "      <td>1</td>\n",
       "    </tr>\n",
       "    <tr>\n",
       "      <th>1</th>\n",
       "      <td>19.5</td>\n",
       "      <td>25.6</td>\n",
       "      <td>3.5</td>\n",
       "      <td>3.400000</td>\n",
       "      <td>2.7</td>\n",
       "      <td>83.0</td>\n",
       "      <td>73.0</td>\n",
       "      <td>1017.9</td>\n",
       "      <td>1016.4</td>\n",
       "      <td>7.0</td>\n",
       "      <td>7.0</td>\n",
       "      <td>22.4</td>\n",
       "      <td>24.8</td>\n",
       "      <td>1</td>\n",
       "      <td>1</td>\n",
       "    </tr>\n",
       "    <tr>\n",
       "      <th>2</th>\n",
       "      <td>21.6</td>\n",
       "      <td>24.5</td>\n",
       "      <td>3.5</td>\n",
       "      <td>2.400000</td>\n",
       "      <td>0.1</td>\n",
       "      <td>88.0</td>\n",
       "      <td>86.0</td>\n",
       "      <td>1016.7</td>\n",
       "      <td>1015.6</td>\n",
       "      <td>7.0</td>\n",
       "      <td>8.0</td>\n",
       "      <td>23.5</td>\n",
       "      <td>23.0</td>\n",
       "      <td>1</td>\n",
       "      <td>1</td>\n",
       "    </tr>\n",
       "    <tr>\n",
       "      <th>3</th>\n",
       "      <td>20.2</td>\n",
       "      <td>22.8</td>\n",
       "      <td>3.5</td>\n",
       "      <td>2.200000</td>\n",
       "      <td>0.0</td>\n",
       "      <td>83.0</td>\n",
       "      <td>90.0</td>\n",
       "      <td>1014.2</td>\n",
       "      <td>1011.8</td>\n",
       "      <td>8.0</td>\n",
       "      <td>8.0</td>\n",
       "      <td>21.4</td>\n",
       "      <td>20.9</td>\n",
       "      <td>1</td>\n",
       "      <td>1</td>\n",
       "    </tr>\n",
       "    <tr>\n",
       "      <th>4</th>\n",
       "      <td>19.7</td>\n",
       "      <td>25.7</td>\n",
       "      <td>3.5</td>\n",
       "      <td>5.187432</td>\n",
       "      <td>0.0</td>\n",
       "      <td>88.0</td>\n",
       "      <td>74.0</td>\n",
       "      <td>1008.3</td>\n",
       "      <td>1004.8</td>\n",
       "      <td>8.0</td>\n",
       "      <td>8.0</td>\n",
       "      <td>22.5</td>\n",
       "      <td>25.5</td>\n",
       "      <td>1</td>\n",
       "      <td>1</td>\n",
       "    </tr>\n",
       "  </tbody>\n",
       "</table>\n",
       "</div>"
      ],
      "text/plain": [
       "   MinTemp  MaxTemp  Rainfall  Evaporation  Sunshine  Humidity9am  \\\n",
       "0     19.5     22.4       3.5     6.200000       0.0         92.0   \n",
       "1     19.5     25.6       3.5     3.400000       2.7         83.0   \n",
       "2     21.6     24.5       3.5     2.400000       0.1         88.0   \n",
       "3     20.2     22.8       3.5     2.200000       0.0         83.0   \n",
       "4     19.7     25.7       3.5     5.187432       0.0         88.0   \n",
       "\n",
       "   Humidity3pm  Pressure9am  Pressure3pm  Cloud9am  Cloud3pm  Temp9am  \\\n",
       "0         84.0       1017.6       1017.4       8.0       8.0     20.7   \n",
       "1         73.0       1017.9       1016.4       7.0       7.0     22.4   \n",
       "2         86.0       1016.7       1015.6       7.0       8.0     23.5   \n",
       "3         90.0       1014.2       1011.8       8.0       8.0     21.4   \n",
       "4         74.0       1008.3       1004.8       8.0       8.0     22.5   \n",
       "\n",
       "   Temp3pm  RainToday_Yes  RainTomorrow_Yes  \n",
       "0     20.9              1                 1  \n",
       "1     24.8              1                 1  \n",
       "2     23.0              1                 1  \n",
       "3     20.9              1                 1  \n",
       "4     25.5              1                 1  "
      ]
     },
     "execution_count": 121,
     "metadata": {},
     "output_type": "execute_result"
    }
   ],
   "source": [
    "df=df.drop(['Date'],axis=1)\n",
    "df=df.drop(['Location'],axis=1)\n",
    "df.head()"
   ]
  },
  {
   "cell_type": "code",
   "execution_count": 122,
   "id": "142614a2",
   "metadata": {},
   "outputs": [
    {
     "data": {
      "text/html": [
       "<div>\n",
       "<style scoped>\n",
       "    .dataframe tbody tr th:only-of-type {\n",
       "        vertical-align: middle;\n",
       "    }\n",
       "\n",
       "    .dataframe tbody tr th {\n",
       "        vertical-align: top;\n",
       "    }\n",
       "\n",
       "    .dataframe thead th {\n",
       "        text-align: right;\n",
       "    }\n",
       "</style>\n",
       "<table border=\"1\" class=\"dataframe\">\n",
       "  <thead>\n",
       "    <tr style=\"text-align: right;\">\n",
       "      <th></th>\n",
       "      <th>MinTemp</th>\n",
       "      <th>MaxTemp</th>\n",
       "      <th>Rainfall</th>\n",
       "      <th>Evaporation</th>\n",
       "      <th>Sunshine</th>\n",
       "      <th>Humidity9am</th>\n",
       "      <th>Humidity3pm</th>\n",
       "      <th>Pressure9am</th>\n",
       "      <th>Pressure3pm</th>\n",
       "      <th>Cloud9am</th>\n",
       "      <th>Cloud3pm</th>\n",
       "      <th>Temp9am</th>\n",
       "      <th>Temp3pm</th>\n",
       "      <th>RainToday_Yes</th>\n",
       "      <th>RainTomorrow_Yes</th>\n",
       "    </tr>\n",
       "  </thead>\n",
       "  <tbody>\n",
       "    <tr>\n",
       "      <th>0</th>\n",
       "      <td>19.5</td>\n",
       "      <td>22.4</td>\n",
       "      <td>3.5</td>\n",
       "      <td>6.200000</td>\n",
       "      <td>0.0</td>\n",
       "      <td>92.0</td>\n",
       "      <td>84.0</td>\n",
       "      <td>1017.6</td>\n",
       "      <td>1017.4</td>\n",
       "      <td>8.0</td>\n",
       "      <td>8.0</td>\n",
       "      <td>20.7</td>\n",
       "      <td>20.9</td>\n",
       "      <td>1</td>\n",
       "      <td>1</td>\n",
       "    </tr>\n",
       "    <tr>\n",
       "      <th>1</th>\n",
       "      <td>19.5</td>\n",
       "      <td>25.6</td>\n",
       "      <td>3.5</td>\n",
       "      <td>3.400000</td>\n",
       "      <td>2.7</td>\n",
       "      <td>83.0</td>\n",
       "      <td>73.0</td>\n",
       "      <td>1017.9</td>\n",
       "      <td>1016.4</td>\n",
       "      <td>7.0</td>\n",
       "      <td>7.0</td>\n",
       "      <td>22.4</td>\n",
       "      <td>24.8</td>\n",
       "      <td>1</td>\n",
       "      <td>1</td>\n",
       "    </tr>\n",
       "    <tr>\n",
       "      <th>2</th>\n",
       "      <td>21.6</td>\n",
       "      <td>24.5</td>\n",
       "      <td>3.5</td>\n",
       "      <td>2.400000</td>\n",
       "      <td>0.1</td>\n",
       "      <td>88.0</td>\n",
       "      <td>86.0</td>\n",
       "      <td>1016.7</td>\n",
       "      <td>1015.6</td>\n",
       "      <td>7.0</td>\n",
       "      <td>8.0</td>\n",
       "      <td>23.5</td>\n",
       "      <td>23.0</td>\n",
       "      <td>1</td>\n",
       "      <td>1</td>\n",
       "    </tr>\n",
       "    <tr>\n",
       "      <th>3</th>\n",
       "      <td>20.2</td>\n",
       "      <td>22.8</td>\n",
       "      <td>3.5</td>\n",
       "      <td>2.200000</td>\n",
       "      <td>0.0</td>\n",
       "      <td>83.0</td>\n",
       "      <td>90.0</td>\n",
       "      <td>1014.2</td>\n",
       "      <td>1011.8</td>\n",
       "      <td>8.0</td>\n",
       "      <td>8.0</td>\n",
       "      <td>21.4</td>\n",
       "      <td>20.9</td>\n",
       "      <td>1</td>\n",
       "      <td>1</td>\n",
       "    </tr>\n",
       "    <tr>\n",
       "      <th>4</th>\n",
       "      <td>19.7</td>\n",
       "      <td>25.7</td>\n",
       "      <td>3.5</td>\n",
       "      <td>5.187432</td>\n",
       "      <td>0.0</td>\n",
       "      <td>88.0</td>\n",
       "      <td>74.0</td>\n",
       "      <td>1008.3</td>\n",
       "      <td>1004.8</td>\n",
       "      <td>8.0</td>\n",
       "      <td>8.0</td>\n",
       "      <td>22.5</td>\n",
       "      <td>25.5</td>\n",
       "      <td>1</td>\n",
       "      <td>1</td>\n",
       "    </tr>\n",
       "  </tbody>\n",
       "</table>\n",
       "</div>"
      ],
      "text/plain": [
       "   MinTemp  MaxTemp  Rainfall  Evaporation  Sunshine  Humidity9am  \\\n",
       "0     19.5     22.4       3.5     6.200000       0.0         92.0   \n",
       "1     19.5     25.6       3.5     3.400000       2.7         83.0   \n",
       "2     21.6     24.5       3.5     2.400000       0.1         88.0   \n",
       "3     20.2     22.8       3.5     2.200000       0.0         83.0   \n",
       "4     19.7     25.7       3.5     5.187432       0.0         88.0   \n",
       "\n",
       "   Humidity3pm  Pressure9am  Pressure3pm  Cloud9am  Cloud3pm  Temp9am  \\\n",
       "0         84.0       1017.6       1017.4       8.0       8.0     20.7   \n",
       "1         73.0       1017.9       1016.4       7.0       7.0     22.4   \n",
       "2         86.0       1016.7       1015.6       7.0       8.0     23.5   \n",
       "3         90.0       1014.2       1011.8       8.0       8.0     21.4   \n",
       "4         74.0       1008.3       1004.8       8.0       8.0     22.5   \n",
       "\n",
       "   Temp3pm  RainToday_Yes  RainTomorrow_Yes  \n",
       "0     20.9              1                 1  \n",
       "1     24.8              1                 1  \n",
       "2     23.0              1                 1  \n",
       "3     20.9              1                 1  \n",
       "4     25.5              1                 1  "
      ]
     },
     "execution_count": 122,
     "metadata": {},
     "output_type": "execute_result"
    }
   ],
   "source": [
    "df.head()"
   ]
  },
  {
   "cell_type": "markdown",
   "id": "798e0556",
   "metadata": {},
   "source": [
    "## Creating Correlation Matrix"
   ]
  },
  {
   "cell_type": "code",
   "execution_count": 123,
   "id": "abadde93",
   "metadata": {},
   "outputs": [
    {
     "data": {
      "text/html": [
       "<div>\n",
       "<style scoped>\n",
       "    .dataframe tbody tr th:only-of-type {\n",
       "        vertical-align: middle;\n",
       "    }\n",
       "\n",
       "    .dataframe tbody tr th {\n",
       "        vertical-align: top;\n",
       "    }\n",
       "\n",
       "    .dataframe thead th {\n",
       "        text-align: right;\n",
       "    }\n",
       "</style>\n",
       "<table border=\"1\" class=\"dataframe\">\n",
       "  <thead>\n",
       "    <tr style=\"text-align: right;\">\n",
       "      <th></th>\n",
       "      <th>MinTemp</th>\n",
       "      <th>MaxTemp</th>\n",
       "      <th>Rainfall</th>\n",
       "      <th>Evaporation</th>\n",
       "      <th>Sunshine</th>\n",
       "      <th>Humidity9am</th>\n",
       "      <th>Humidity3pm</th>\n",
       "      <th>Pressure9am</th>\n",
       "      <th>Pressure3pm</th>\n",
       "      <th>Cloud9am</th>\n",
       "      <th>Cloud3pm</th>\n",
       "      <th>Temp9am</th>\n",
       "      <th>Temp3pm</th>\n",
       "      <th>RainToday_Yes</th>\n",
       "      <th>RainTomorrow_Yes</th>\n",
       "    </tr>\n",
       "  </thead>\n",
       "  <tbody>\n",
       "    <tr>\n",
       "      <th>MinTemp</th>\n",
       "      <td>1.000000</td>\n",
       "      <td>0.775690</td>\n",
       "      <td>0.023171</td>\n",
       "      <td>0.570698</td>\n",
       "      <td>-0.062959</td>\n",
       "      <td>0.052908</td>\n",
       "      <td>0.271728</td>\n",
       "      <td>-0.395526</td>\n",
       "      <td>-0.357223</td>\n",
       "      <td>0.236288</td>\n",
       "      <td>0.163519</td>\n",
       "      <td>0.939013</td>\n",
       "      <td>0.758371</td>\n",
       "      <td>0.018690</td>\n",
       "      <td>0.079962</td>\n",
       "    </tr>\n",
       "    <tr>\n",
       "      <th>MaxTemp</th>\n",
       "      <td>0.775690</td>\n",
       "      <td>1.000000</td>\n",
       "      <td>-0.188239</td>\n",
       "      <td>0.512694</td>\n",
       "      <td>0.328741</td>\n",
       "      <td>-0.183404</td>\n",
       "      <td>-0.144058</td>\n",
       "      <td>-0.390471</td>\n",
       "      <td>-0.425164</td>\n",
       "      <td>-0.088230</td>\n",
       "      <td>-0.101725</td>\n",
       "      <td>0.862195</td>\n",
       "      <td>0.960018</td>\n",
       "      <td>-0.188545</td>\n",
       "      <td>-0.151841</td>\n",
       "    </tr>\n",
       "    <tr>\n",
       "      <th>Rainfall</th>\n",
       "      <td>0.023171</td>\n",
       "      <td>-0.188239</td>\n",
       "      <td>1.000000</td>\n",
       "      <td>-0.235492</td>\n",
       "      <td>-0.375991</td>\n",
       "      <td>0.418365</td>\n",
       "      <td>0.354544</td>\n",
       "      <td>-0.008021</td>\n",
       "      <td>0.052547</td>\n",
       "      <td>0.329424</td>\n",
       "      <td>0.263782</td>\n",
       "      <td>-0.072416</td>\n",
       "      <td>-0.189999</td>\n",
       "      <td>0.953486</td>\n",
       "      <td>0.358048</td>\n",
       "    </tr>\n",
       "    <tr>\n",
       "      <th>Evaporation</th>\n",
       "      <td>0.570698</td>\n",
       "      <td>0.512694</td>\n",
       "      <td>-0.235492</td>\n",
       "      <td>1.000000</td>\n",
       "      <td>0.177087</td>\n",
       "      <td>-0.394423</td>\n",
       "      <td>-0.101240</td>\n",
       "      <td>-0.345633</td>\n",
       "      <td>-0.302191</td>\n",
       "      <td>-0.037937</td>\n",
       "      <td>-0.038892</td>\n",
       "      <td>0.609323</td>\n",
       "      <td>0.479570</td>\n",
       "      <td>-0.230889</td>\n",
       "      <td>-0.063748</td>\n",
       "    </tr>\n",
       "    <tr>\n",
       "      <th>Sunshine</th>\n",
       "      <td>-0.062959</td>\n",
       "      <td>0.328741</td>\n",
       "      <td>-0.375991</td>\n",
       "      <td>0.177087</td>\n",
       "      <td>1.000000</td>\n",
       "      <td>-0.489488</td>\n",
       "      <td>-0.583373</td>\n",
       "      <td>-0.046806</td>\n",
       "      <td>-0.096027</td>\n",
       "      <td>-0.660555</td>\n",
       "      <td>-0.676397</td>\n",
       "      <td>0.114541</td>\n",
       "      <td>0.346971</td>\n",
       "      <td>-0.367080</td>\n",
       "      <td>-0.521637</td>\n",
       "    </tr>\n",
       "    <tr>\n",
       "      <th>Humidity9am</th>\n",
       "      <td>0.052908</td>\n",
       "      <td>-0.183404</td>\n",
       "      <td>0.418365</td>\n",
       "      <td>-0.394423</td>\n",
       "      <td>-0.489488</td>\n",
       "      <td>1.000000</td>\n",
       "      <td>0.657988</td>\n",
       "      <td>0.263285</td>\n",
       "      <td>0.252339</td>\n",
       "      <td>0.423909</td>\n",
       "      <td>0.331951</td>\n",
       "      <td>-0.147018</td>\n",
       "      <td>-0.154477</td>\n",
       "      <td>0.401023</td>\n",
       "      <td>0.329345</td>\n",
       "    </tr>\n",
       "    <tr>\n",
       "      <th>Humidity3pm</th>\n",
       "      <td>0.271728</td>\n",
       "      <td>-0.144058</td>\n",
       "      <td>0.354544</td>\n",
       "      <td>-0.101240</td>\n",
       "      <td>-0.583373</td>\n",
       "      <td>0.657988</td>\n",
       "      <td>1.000000</td>\n",
       "      <td>0.153133</td>\n",
       "      <td>0.182897</td>\n",
       "      <td>0.454424</td>\n",
       "      <td>0.472158</td>\n",
       "      <td>0.129572</td>\n",
       "      <td>-0.204563</td>\n",
       "      <td>0.343130</td>\n",
       "      <td>0.471827</td>\n",
       "    </tr>\n",
       "    <tr>\n",
       "      <th>Pressure9am</th>\n",
       "      <td>-0.395526</td>\n",
       "      <td>-0.390471</td>\n",
       "      <td>-0.008021</td>\n",
       "      <td>-0.345633</td>\n",
       "      <td>-0.046806</td>\n",
       "      <td>0.263285</td>\n",
       "      <td>0.153133</td>\n",
       "      <td>1.000000</td>\n",
       "      <td>0.960806</td>\n",
       "      <td>-0.010435</td>\n",
       "      <td>-0.039749</td>\n",
       "      <td>-0.421709</td>\n",
       "      <td>-0.347228</td>\n",
       "      <td>0.000834</td>\n",
       "      <td>-0.032176</td>\n",
       "    </tr>\n",
       "    <tr>\n",
       "      <th>Pressure3pm</th>\n",
       "      <td>-0.357223</td>\n",
       "      <td>-0.425164</td>\n",
       "      <td>0.052547</td>\n",
       "      <td>-0.302191</td>\n",
       "      <td>-0.096027</td>\n",
       "      <td>0.252339</td>\n",
       "      <td>0.182897</td>\n",
       "      <td>0.960806</td>\n",
       "      <td>1.000000</td>\n",
       "      <td>0.019873</td>\n",
       "      <td>-0.002591</td>\n",
       "      <td>-0.406225</td>\n",
       "      <td>-0.391848</td>\n",
       "      <td>0.057890</td>\n",
       "      <td>0.011403</td>\n",
       "    </tr>\n",
       "    <tr>\n",
       "      <th>Cloud9am</th>\n",
       "      <td>0.236288</td>\n",
       "      <td>-0.088230</td>\n",
       "      <td>0.329424</td>\n",
       "      <td>-0.037937</td>\n",
       "      <td>-0.660555</td>\n",
       "      <td>0.423909</td>\n",
       "      <td>0.454424</td>\n",
       "      <td>-0.010435</td>\n",
       "      <td>0.019873</td>\n",
       "      <td>1.000000</td>\n",
       "      <td>0.608995</td>\n",
       "      <td>0.088716</td>\n",
       "      <td>-0.090757</td>\n",
       "      <td>0.316502</td>\n",
       "      <td>0.329525</td>\n",
       "    </tr>\n",
       "    <tr>\n",
       "      <th>Cloud3pm</th>\n",
       "      <td>0.163519</td>\n",
       "      <td>-0.101725</td>\n",
       "      <td>0.263782</td>\n",
       "      <td>-0.038892</td>\n",
       "      <td>-0.676397</td>\n",
       "      <td>0.331951</td>\n",
       "      <td>0.472158</td>\n",
       "      <td>-0.039749</td>\n",
       "      <td>-0.002591</td>\n",
       "      <td>0.608995</td>\n",
       "      <td>1.000000</td>\n",
       "      <td>0.067842</td>\n",
       "      <td>-0.148330</td>\n",
       "      <td>0.260599</td>\n",
       "      <td>0.413217</td>\n",
       "    </tr>\n",
       "    <tr>\n",
       "      <th>Temp9am</th>\n",
       "      <td>0.939013</td>\n",
       "      <td>0.862195</td>\n",
       "      <td>-0.072416</td>\n",
       "      <td>0.609323</td>\n",
       "      <td>0.114541</td>\n",
       "      <td>-0.147018</td>\n",
       "      <td>0.129572</td>\n",
       "      <td>-0.421709</td>\n",
       "      <td>-0.406225</td>\n",
       "      <td>0.088716</td>\n",
       "      <td>0.067842</td>\n",
       "      <td>1.000000</td>\n",
       "      <td>0.833163</td>\n",
       "      <td>-0.075007</td>\n",
       "      <td>-0.000609</td>\n",
       "    </tr>\n",
       "    <tr>\n",
       "      <th>Temp3pm</th>\n",
       "      <td>0.758371</td>\n",
       "      <td>0.960018</td>\n",
       "      <td>-0.189999</td>\n",
       "      <td>0.479570</td>\n",
       "      <td>0.346971</td>\n",
       "      <td>-0.154477</td>\n",
       "      <td>-0.204563</td>\n",
       "      <td>-0.347228</td>\n",
       "      <td>-0.391848</td>\n",
       "      <td>-0.090757</td>\n",
       "      <td>-0.148330</td>\n",
       "      <td>0.833163</td>\n",
       "      <td>1.000000</td>\n",
       "      <td>-0.189536</td>\n",
       "      <td>-0.191434</td>\n",
       "    </tr>\n",
       "    <tr>\n",
       "      <th>RainToday_Yes</th>\n",
       "      <td>0.018690</td>\n",
       "      <td>-0.188545</td>\n",
       "      <td>0.953486</td>\n",
       "      <td>-0.230889</td>\n",
       "      <td>-0.367080</td>\n",
       "      <td>0.401023</td>\n",
       "      <td>0.343130</td>\n",
       "      <td>0.000834</td>\n",
       "      <td>0.057890</td>\n",
       "      <td>0.316502</td>\n",
       "      <td>0.260599</td>\n",
       "      <td>-0.075007</td>\n",
       "      <td>-0.189536</td>\n",
       "      <td>1.000000</td>\n",
       "      <td>0.340894</td>\n",
       "    </tr>\n",
       "    <tr>\n",
       "      <th>RainTomorrow_Yes</th>\n",
       "      <td>0.079962</td>\n",
       "      <td>-0.151841</td>\n",
       "      <td>0.358048</td>\n",
       "      <td>-0.063748</td>\n",
       "      <td>-0.521637</td>\n",
       "      <td>0.329345</td>\n",
       "      <td>0.471827</td>\n",
       "      <td>-0.032176</td>\n",
       "      <td>0.011403</td>\n",
       "      <td>0.329525</td>\n",
       "      <td>0.413217</td>\n",
       "      <td>-0.000609</td>\n",
       "      <td>-0.191434</td>\n",
       "      <td>0.340894</td>\n",
       "      <td>1.000000</td>\n",
       "    </tr>\n",
       "  </tbody>\n",
       "</table>\n",
       "</div>"
      ],
      "text/plain": [
       "                   MinTemp   MaxTemp  Rainfall  Evaporation  Sunshine  \\\n",
       "MinTemp           1.000000  0.775690  0.023171     0.570698 -0.062959   \n",
       "MaxTemp           0.775690  1.000000 -0.188239     0.512694  0.328741   \n",
       "Rainfall          0.023171 -0.188239  1.000000    -0.235492 -0.375991   \n",
       "Evaporation       0.570698  0.512694 -0.235492     1.000000  0.177087   \n",
       "Sunshine         -0.062959  0.328741 -0.375991     0.177087  1.000000   \n",
       "Humidity9am       0.052908 -0.183404  0.418365    -0.394423 -0.489488   \n",
       "Humidity3pm       0.271728 -0.144058  0.354544    -0.101240 -0.583373   \n",
       "Pressure9am      -0.395526 -0.390471 -0.008021    -0.345633 -0.046806   \n",
       "Pressure3pm      -0.357223 -0.425164  0.052547    -0.302191 -0.096027   \n",
       "Cloud9am          0.236288 -0.088230  0.329424    -0.037937 -0.660555   \n",
       "Cloud3pm          0.163519 -0.101725  0.263782    -0.038892 -0.676397   \n",
       "Temp9am           0.939013  0.862195 -0.072416     0.609323  0.114541   \n",
       "Temp3pm           0.758371  0.960018 -0.189999     0.479570  0.346971   \n",
       "RainToday_Yes     0.018690 -0.188545  0.953486    -0.230889 -0.367080   \n",
       "RainTomorrow_Yes  0.079962 -0.151841  0.358048    -0.063748 -0.521637   \n",
       "\n",
       "                  Humidity9am  Humidity3pm  Pressure9am  Pressure3pm  \\\n",
       "MinTemp              0.052908     0.271728    -0.395526    -0.357223   \n",
       "MaxTemp             -0.183404    -0.144058    -0.390471    -0.425164   \n",
       "Rainfall             0.418365     0.354544    -0.008021     0.052547   \n",
       "Evaporation         -0.394423    -0.101240    -0.345633    -0.302191   \n",
       "Sunshine            -0.489488    -0.583373    -0.046806    -0.096027   \n",
       "Humidity9am          1.000000     0.657988     0.263285     0.252339   \n",
       "Humidity3pm          0.657988     1.000000     0.153133     0.182897   \n",
       "Pressure9am          0.263285     0.153133     1.000000     0.960806   \n",
       "Pressure3pm          0.252339     0.182897     0.960806     1.000000   \n",
       "Cloud9am             0.423909     0.454424    -0.010435     0.019873   \n",
       "Cloud3pm             0.331951     0.472158    -0.039749    -0.002591   \n",
       "Temp9am             -0.147018     0.129572    -0.421709    -0.406225   \n",
       "Temp3pm             -0.154477    -0.204563    -0.347228    -0.391848   \n",
       "RainToday_Yes        0.401023     0.343130     0.000834     0.057890   \n",
       "RainTomorrow_Yes     0.329345     0.471827    -0.032176     0.011403   \n",
       "\n",
       "                  Cloud9am  Cloud3pm   Temp9am   Temp3pm  RainToday_Yes  \\\n",
       "MinTemp           0.236288  0.163519  0.939013  0.758371       0.018690   \n",
       "MaxTemp          -0.088230 -0.101725  0.862195  0.960018      -0.188545   \n",
       "Rainfall          0.329424  0.263782 -0.072416 -0.189999       0.953486   \n",
       "Evaporation      -0.037937 -0.038892  0.609323  0.479570      -0.230889   \n",
       "Sunshine         -0.660555 -0.676397  0.114541  0.346971      -0.367080   \n",
       "Humidity9am       0.423909  0.331951 -0.147018 -0.154477       0.401023   \n",
       "Humidity3pm       0.454424  0.472158  0.129572 -0.204563       0.343130   \n",
       "Pressure9am      -0.010435 -0.039749 -0.421709 -0.347228       0.000834   \n",
       "Pressure3pm       0.019873 -0.002591 -0.406225 -0.391848       0.057890   \n",
       "Cloud9am          1.000000  0.608995  0.088716 -0.090757       0.316502   \n",
       "Cloud3pm          0.608995  1.000000  0.067842 -0.148330       0.260599   \n",
       "Temp9am           0.088716  0.067842  1.000000  0.833163      -0.075007   \n",
       "Temp3pm          -0.090757 -0.148330  0.833163  1.000000      -0.189536   \n",
       "RainToday_Yes     0.316502  0.260599 -0.075007 -0.189536       1.000000   \n",
       "RainTomorrow_Yes  0.329525  0.413217 -0.000609 -0.191434       0.340894   \n",
       "\n",
       "                  RainTomorrow_Yes  \n",
       "MinTemp                   0.079962  \n",
       "MaxTemp                  -0.151841  \n",
       "Rainfall                  0.358048  \n",
       "Evaporation              -0.063748  \n",
       "Sunshine                 -0.521637  \n",
       "Humidity9am               0.329345  \n",
       "Humidity3pm               0.471827  \n",
       "Pressure9am              -0.032176  \n",
       "Pressure3pm               0.011403  \n",
       "Cloud9am                  0.329525  \n",
       "Cloud3pm                  0.413217  \n",
       "Temp9am                  -0.000609  \n",
       "Temp3pm                  -0.191434  \n",
       "RainToday_Yes             0.340894  \n",
       "RainTomorrow_Yes          1.000000  "
      ]
     },
     "execution_count": 123,
     "metadata": {},
     "output_type": "execute_result"
    }
   ],
   "source": [
    "corr_matrix = df.corr()\n",
    "corr_matrix"
   ]
  },
  {
   "cell_type": "markdown",
   "id": "48138363",
   "metadata": {},
   "source": [
    "\n",
    "1.Temp9am and MinTemp\n",
    "<br>\n",
    "2.Temp9am and maxtemp\n",
    "<br>\n",
    "3.temp3pm and maxtemp\n",
    "<br>\n",
    "4.pressure9am and pressure3pm\n",
    "<br>\n",
    "5.temp9am and temp3pm\n",
    "<br>\n",
    "are highly correlated with each other"
   ]
  },
  {
   "cell_type": "markdown",
   "id": "c8b4da67",
   "metadata": {},
   "source": [
    "## Defining Dependent(target variable) and independent variables"
   ]
  },
  {
   "cell_type": "code",
   "execution_count": 124,
   "id": "02a9686c",
   "metadata": {},
   "outputs": [],
   "source": [
    "# Split the dataset into training and testing sets\n",
    "# Selecting features and target variable\n",
    "X = df.drop(['RainTomorrow_Yes'], axis=1)  # Features\n",
    "y = df['RainTomorrow_Yes']  # Target variable"
   ]
  },
  {
   "cell_type": "markdown",
   "id": "4fbeb8b1",
   "metadata": {},
   "source": [
    "## Train Test Split data"
   ]
  },
  {
   "cell_type": "code",
   "execution_count": 125,
   "id": "b590b00f",
   "metadata": {},
   "outputs": [],
   "source": [
    "# Split the data into training and testing sets\n",
    "X_train, X_test, y_train, y_test = train_test_split(X, y, test_size=0.2, random_state=42)\n"
   ]
  },
  {
   "cell_type": "code",
   "execution_count": 126,
   "id": "db5cba9c",
   "metadata": {},
   "outputs": [
    {
     "data": {
      "text/plain": [
       "(2669,)"
      ]
     },
     "execution_count": 126,
     "metadata": {},
     "output_type": "execute_result"
    }
   ],
   "source": [
    "y_train.shape"
   ]
  },
  {
   "cell_type": "code",
   "execution_count": 127,
   "id": "541856cd",
   "metadata": {},
   "outputs": [
    {
     "data": {
      "text/plain": [
       "(668,)"
      ]
     },
     "execution_count": 127,
     "metadata": {},
     "output_type": "execute_result"
    }
   ],
   "source": [
    "y_test.shape\n"
   ]
  },
  {
   "cell_type": "markdown",
   "id": "a9070ae2",
   "metadata": {},
   "source": [
    "## Applying standard scaler"
   ]
  },
  {
   "cell_type": "code",
   "execution_count": 128,
   "id": "7276af62",
   "metadata": {},
   "outputs": [],
   "source": [
    "# Standardize the feature matrix X using StandardScaler\n",
    "# Create an instance of the StandardScaler\n",
    "scaler = StandardScaler()\n",
    "\n",
    "# Use the fit_transform method to standardize the feature matrix X_train\n",
    "X_train_scaled = scaler.fit_transform(X_train)\n",
    "\n",
    "# Use the transform method to standardize the feature matrix X_test\n",
    "X_test_scaled = scaler.transform(X_test)\n"
   ]
  },
  {
   "cell_type": "markdown",
   "id": "b78db74c",
   "metadata": {},
   "source": [
    "# Logistic Regression\n",
    "\n",
    "## Training the data"
   ]
  },
  {
   "cell_type": "code",
   "execution_count": 129,
   "id": "a754fe59",
   "metadata": {},
   "outputs": [
    {
     "data": {
      "text/html": [
       "<style>#sk-container-id-2 {color: black;}#sk-container-id-2 pre{padding: 0;}#sk-container-id-2 div.sk-toggleable {background-color: white;}#sk-container-id-2 label.sk-toggleable__label {cursor: pointer;display: block;width: 100%;margin-bottom: 0;padding: 0.3em;box-sizing: border-box;text-align: center;}#sk-container-id-2 label.sk-toggleable__label-arrow:before {content: \"▸\";float: left;margin-right: 0.25em;color: #696969;}#sk-container-id-2 label.sk-toggleable__label-arrow:hover:before {color: black;}#sk-container-id-2 div.sk-estimator:hover label.sk-toggleable__label-arrow:before {color: black;}#sk-container-id-2 div.sk-toggleable__content {max-height: 0;max-width: 0;overflow: hidden;text-align: left;background-color: #f0f8ff;}#sk-container-id-2 div.sk-toggleable__content pre {margin: 0.2em;color: black;border-radius: 0.25em;background-color: #f0f8ff;}#sk-container-id-2 input.sk-toggleable__control:checked~div.sk-toggleable__content {max-height: 200px;max-width: 100%;overflow: auto;}#sk-container-id-2 input.sk-toggleable__control:checked~label.sk-toggleable__label-arrow:before {content: \"▾\";}#sk-container-id-2 div.sk-estimator input.sk-toggleable__control:checked~label.sk-toggleable__label {background-color: #d4ebff;}#sk-container-id-2 div.sk-label input.sk-toggleable__control:checked~label.sk-toggleable__label {background-color: #d4ebff;}#sk-container-id-2 input.sk-hidden--visually {border: 0;clip: rect(1px 1px 1px 1px);clip: rect(1px, 1px, 1px, 1px);height: 1px;margin: -1px;overflow: hidden;padding: 0;position: absolute;width: 1px;}#sk-container-id-2 div.sk-estimator {font-family: monospace;background-color: #f0f8ff;border: 1px dotted black;border-radius: 0.25em;box-sizing: border-box;margin-bottom: 0.5em;}#sk-container-id-2 div.sk-estimator:hover {background-color: #d4ebff;}#sk-container-id-2 div.sk-parallel-item::after {content: \"\";width: 100%;border-bottom: 1px solid gray;flex-grow: 1;}#sk-container-id-2 div.sk-label:hover label.sk-toggleable__label {background-color: #d4ebff;}#sk-container-id-2 div.sk-serial::before {content: \"\";position: absolute;border-left: 1px solid gray;box-sizing: border-box;top: 0;bottom: 0;left: 50%;z-index: 0;}#sk-container-id-2 div.sk-serial {display: flex;flex-direction: column;align-items: center;background-color: white;padding-right: 0.2em;padding-left: 0.2em;position: relative;}#sk-container-id-2 div.sk-item {position: relative;z-index: 1;}#sk-container-id-2 div.sk-parallel {display: flex;align-items: stretch;justify-content: center;background-color: white;position: relative;}#sk-container-id-2 div.sk-item::before, #sk-container-id-2 div.sk-parallel-item::before {content: \"\";position: absolute;border-left: 1px solid gray;box-sizing: border-box;top: 0;bottom: 0;left: 50%;z-index: -1;}#sk-container-id-2 div.sk-parallel-item {display: flex;flex-direction: column;z-index: 1;position: relative;background-color: white;}#sk-container-id-2 div.sk-parallel-item:first-child::after {align-self: flex-end;width: 50%;}#sk-container-id-2 div.sk-parallel-item:last-child::after {align-self: flex-start;width: 50%;}#sk-container-id-2 div.sk-parallel-item:only-child::after {width: 0;}#sk-container-id-2 div.sk-dashed-wrapped {border: 1px dashed gray;margin: 0 0.4em 0.5em 0.4em;box-sizing: border-box;padding-bottom: 0.4em;background-color: white;}#sk-container-id-2 div.sk-label label {font-family: monospace;font-weight: bold;display: inline-block;line-height: 1.2em;}#sk-container-id-2 div.sk-label-container {text-align: center;}#sk-container-id-2 div.sk-container {/* jupyter's `normalize.less` sets `[hidden] { display: none; }` but bootstrap.min.css set `[hidden] { display: none !important; }` so we also need the `!important` here to be able to override the default hidden behavior on the sphinx rendered scikit-learn.org. See: https://github.com/scikit-learn/scikit-learn/issues/21755 */display: inline-block !important;position: relative;}#sk-container-id-2 div.sk-text-repr-fallback {display: none;}</style><div id=\"sk-container-id-2\" class=\"sk-top-container\"><div class=\"sk-text-repr-fallback\"><pre>LogisticRegression()</pre><b>In a Jupyter environment, please rerun this cell to show the HTML representation or trust the notebook. <br />On GitHub, the HTML representation is unable to render, please try loading this page with nbviewer.org.</b></div><div class=\"sk-container\" hidden><div class=\"sk-item\"><div class=\"sk-estimator sk-toggleable\"><input class=\"sk-toggleable__control sk-hidden--visually\" id=\"sk-estimator-id-2\" type=\"checkbox\" checked><label for=\"sk-estimator-id-2\" class=\"sk-toggleable__label sk-toggleable__label-arrow\">LogisticRegression</label><div class=\"sk-toggleable__content\"><pre>LogisticRegression()</pre></div></div></div></div></div>"
      ],
      "text/plain": [
       "LogisticRegression()"
      ]
     },
     "execution_count": 129,
     "metadata": {},
     "output_type": "execute_result"
    }
   ],
   "source": [
    "# Initialize the Logistic Regression classifier\n",
    "log_reg = LogisticRegression()\n",
    "\n",
    "# Train the Logistic Regression classifier on the scaled training data\n",
    "log_reg.fit(X_train_scaled, y_train)\n"
   ]
  },
  {
   "cell_type": "markdown",
   "id": "8ff43b25",
   "metadata": {},
   "source": [
    "## Predicting the values"
   ]
  },
  {
   "cell_type": "code",
   "execution_count": 130,
   "id": "65511f2a",
   "metadata": {},
   "outputs": [],
   "source": [
    "# Predict the target variable for the test set\n",
    "y_pred_log_reg = log_reg.predict(X_test_scaled)\n"
   ]
  },
  {
   "cell_type": "markdown",
   "id": "3a8e1f3c",
   "metadata": {},
   "source": [
    "## Evaluating Logistic Regression Model Performance"
   ]
  },
  {
   "cell_type": "code",
   "execution_count": 131,
   "id": "9631932a",
   "metadata": {},
   "outputs": [
    {
     "name": "stdout",
     "output_type": "stream",
     "text": [
      "Training Accuracy (Logistic Regression): 0.8392656425627576\n",
      "Testing Accuracy (Logistic Regression): 0.8218562874251497\n",
      "Precision score for logistic regression: 0.7338129496402878\n",
      "Recall score for logistic regression: 0.5543478260869565\n",
      "ROC AUC Score : 0.7389507725476105\n"
     ]
    }
   ],
   "source": [
    "from sklearn.metrics import roc_auc_score\n",
    "\n",
    "\n",
    "# Evaluate the model\n",
    "# Calculate accuracy score for training set\n",
    "\n",
    "train_accuracy_log_reg = accuracy_score(y_train, log_reg.predict(X_train_scaled))\n",
    "print(\"Training Accuracy (Logistic Regression):\", train_accuracy_log_reg)\n",
    "\n",
    "# Calculate accuracy score for testing set\n",
    "test_accuracy_log_reg = accuracy_score(y_test, y_pred_log_reg)\n",
    "print(\"Testing Accuracy (Logistic Regression):\", test_accuracy_log_reg)\n",
    "\n",
    "precision_score_lr = precision_score(y_test, y_pred_log_reg)\n",
    "print(\"Precision score for logistic regression:\", precision_score_lr)\n",
    "\n",
    "recall_score_lr = recall_score(y_test, y_pred_log_reg)\n",
    "print(\"Recall score for logistic regression:\", recall_score_lr)\n",
    "\n",
    "roc_auc = roc_auc_score(y_test, y_pred_log_reg)\n",
    "print(\"ROC AUC Score :\", roc_auc)\n"
   ]
  },
  {
   "cell_type": "markdown",
   "id": "fb73c951",
   "metadata": {},
   "source": [
    "## Creating Confusion Matrix"
   ]
  },
  {
   "cell_type": "code",
   "execution_count": 132,
   "id": "cad89e0b",
   "metadata": {},
   "outputs": [
    {
     "data": {
      "text/plain": [
       "array([[447,  37],\n",
       "       [ 82, 102]], dtype=int64)"
      ]
     },
     "execution_count": 132,
     "metadata": {},
     "output_type": "execute_result"
    }
   ],
   "source": [
    "confusion_matrix(y_test,y_pred_log_reg)"
   ]
  },
  {
   "cell_type": "markdown",
   "id": "e8881dc0",
   "metadata": {},
   "source": [
    "# Decision Tree classifier\n",
    "## Training the Model and Predicting Values"
   ]
  },
  {
   "cell_type": "code",
   "execution_count": 133,
   "id": "f393d288",
   "metadata": {},
   "outputs": [],
   "source": [
    "\n",
    "# Initialize the Decision Tree classifier\n",
    "clf = DecisionTreeClassifier(max_depth=1)\n",
    "\n",
    "# Train the classifier\n",
    "clf.fit(X_train_scaled, y_train)\n",
    "\n",
    "# Predictions on the test set\n",
    "y_pred = clf.predict(X_test_scaled)\n",
    "\n"
   ]
  },
  {
   "cell_type": "markdown",
   "id": "1d46b6eb",
   "metadata": {},
   "source": [
    "## Evaluating the Decision Tree Classifier Performance"
   ]
  },
  {
   "cell_type": "code",
   "execution_count": 134,
   "id": "9e54a9a5",
   "metadata": {},
   "outputs": [
    {
     "name": "stdout",
     "output_type": "stream",
     "text": [
      "Training Accuracy: 0.8235294117647058\n",
      "Testing Accuracy: 0.8098802395209581\n",
      "Precision Score: 0.8433734939759037\n",
      "Recall Score: 0.3804347826086957\n",
      "ROC AUC Score : 0.6767876392382322\n"
     ]
    }
   ],
   "source": [
    "# Evaluating the model\n",
    "train_accuracy = accuracy_score(y_train, clf.predict(X_train_scaled))\n",
    "print(\"Training Accuracy:\", train_accuracy)\n",
    "\n",
    "# Calculate accuracy score for testing set\n",
    "test_accuracy = accuracy_score(y_test, y_pred)\n",
    "print(\"Testing Accuracy:\", test_accuracy)\n",
    "\n",
    "# Calculate precision and recall scores\n",
    "precision = precision_score(y_test, y_pred)\n",
    "print(\"Precision Score:\", precision)\n",
    "\n",
    "\n",
    "recall = recall_score(y_test, y_pred)\n",
    "print(\"Recall Score:\", recall)\n",
    "\n",
    "roc_auc = roc_auc_score(y_test, y_pred)\n",
    "print(\"ROC AUC Score :\", roc_auc)\n"
   ]
  },
  {
   "cell_type": "markdown",
   "id": "ee5bac56",
   "metadata": {},
   "source": [
    "## Creating Confusion matrix"
   ]
  },
  {
   "cell_type": "code",
   "execution_count": 135,
   "id": "fb142e6d",
   "metadata": {},
   "outputs": [
    {
     "data": {
      "text/plain": [
       "array([[471,  13],\n",
       "       [114,  70]], dtype=int64)"
      ]
     },
     "execution_count": 135,
     "metadata": {},
     "output_type": "execute_result"
    }
   ],
   "source": [
    "confusion_matrix(y_test,y_pred)"
   ]
  },
  {
   "cell_type": "markdown",
   "id": "5b405414",
   "metadata": {},
   "source": [
    "# K Neighbors Classifier\n",
    "## Training the Model and Predicting Values"
   ]
  },
  {
   "cell_type": "code",
   "execution_count": 136,
   "id": "ba154c9d",
   "metadata": {},
   "outputs": [],
   "source": [
    "from sklearn.neighbors import KNeighborsClassifier\n",
    "\n",
    "# Initialize the KNN classifier\n",
    "knn_clf = KNeighborsClassifier(n_neighbors=5)  # You can adjust the number of neighbors as needed\n",
    "\n",
    "# Train the KNN classifier\n",
    "knn_clf.fit(X_train_scaled, y_train)\n",
    "\n",
    "# Predictions on the test set\n",
    "y_pred_knn = knn_clf.predict(X_test_scaled)\n"
   ]
  },
  {
   "cell_type": "markdown",
   "id": "54e0cecb",
   "metadata": {},
   "source": [
    "## Evaluating the KNN Performance"
   ]
  },
  {
   "cell_type": "code",
   "execution_count": 137,
   "id": "f682a694",
   "metadata": {},
   "outputs": [
    {
     "name": "stdout",
     "output_type": "stream",
     "text": [
      "Training Accuracy (KNN): 0.8643686774072686\n",
      "Testing Accuracy (KNN): 0.8068862275449101\n",
      "Precision Score (KNN): 0.6708074534161491\n",
      "Recall Score (KNN): 0.5869565217391305\n",
      "ROC AUC Score : 0.7387261947538627\n"
     ]
    }
   ],
   "source": [
    "\n",
    "# Evaluating the model\n",
    "train_accuracy_knn = accuracy_score(y_train, knn_clf.predict(X_train_scaled))\n",
    "print(\"Training Accuracy (KNN):\", train_accuracy_knn)\n",
    "\n",
    "# Calculate accuracy score for testing set\n",
    "test_accuracy_knn = accuracy_score(y_test, y_pred_knn)\n",
    "print(\"Testing Accuracy (KNN):\", test_accuracy_knn)\n",
    "\n",
    "# Calculate precision score for testing set\n",
    "precision_knn = precision_score(y_test, y_pred_knn)\n",
    "print(\"Precision Score (KNN):\", precision_knn)\n",
    "\n",
    "# Calculate recall score for testing set\n",
    "recall_knn = recall_score(y_test, y_pred_knn)\n",
    "print(\"Recall Score (KNN):\", recall_knn)\n",
    "\n",
    "roc_auc = roc_auc_score(y_test, y_pred_knn)\n",
    "print(\"ROC AUC Score :\", roc_auc)\n"
   ]
  },
  {
   "cell_type": "markdown",
   "id": "d6b41693",
   "metadata": {},
   "source": [
    "## Creating confusion matrix"
   ]
  },
  {
   "cell_type": "code",
   "execution_count": 138,
   "id": "01f4ffe0",
   "metadata": {},
   "outputs": [
    {
     "data": {
      "text/plain": [
       "array([[431,  53],\n",
       "       [ 76, 108]], dtype=int64)"
      ]
     },
     "execution_count": 138,
     "metadata": {},
     "output_type": "execute_result"
    }
   ],
   "source": [
    "confusion_matrix(y_test,y_pred_knn)"
   ]
  },
  {
   "cell_type": "markdown",
   "id": "afcb392f",
   "metadata": {},
   "source": [
    "# Linear Discriminant Analysis\n",
    "## Training and Predicting values"
   ]
  },
  {
   "cell_type": "code",
   "execution_count": 139,
   "id": "edb58dd3",
   "metadata": {},
   "outputs": [],
   "source": [
    "from sklearn.discriminant_analysis import LinearDiscriminantAnalysis\n",
    "from sklearn.metrics import roc_auc_score\n",
    "\n",
    "# Initialize the LDA classifier\n",
    "# Initialize the LDA classifier\n",
    "lda = LinearDiscriminantAnalysis()\n",
    "\n",
    "# Train the classifier\n",
    "lda.fit(X_train_scaled, y_train)\n",
    "\n",
    "# Predictions on the test set\n",
    "y_pred_lda = lda.predict(X_test_scaled)\n",
    "\n"
   ]
  },
  {
   "cell_type": "markdown",
   "id": "1cc24177",
   "metadata": {},
   "source": [
    "## Evaluating LDA Performance"
   ]
  },
  {
   "cell_type": "code",
   "execution_count": 140,
   "id": "c09bd484",
   "metadata": {},
   "outputs": [
    {
     "name": "stdout",
     "output_type": "stream",
     "text": [
      "Training Accuracy (LDA): 0.8332708879730236\n",
      "Testing Accuracy (LDA): 0.8233532934131736\n",
      "Precision Score (LDA): 0.72\n",
      "Recall Score (LDA): 0.5869565217391305\n",
      "ROC AUC Score (LDA): 0.750089831117499\n"
     ]
    }
   ],
   "source": [
    "# Evaluating the model\n",
    "train_accuracy_lda = accuracy_score(y_train, lda.predict(X_train_scaled))\n",
    "print(\"Training Accuracy (LDA):\", train_accuracy_lda)\n",
    "\n",
    "# Calculate accuracy score for testing set\n",
    "test_accuracy_lda = accuracy_score(y_test, y_pred_lda)\n",
    "print(\"Testing Accuracy (LDA):\", test_accuracy_lda)\n",
    "\n",
    "# Calculate precision score for testing set\n",
    "precision_lda = precision_score(y_test, y_pred_lda)\n",
    "print(\"Precision Score (LDA):\", precision_lda)\n",
    "\n",
    "# Calculate recall score for testing set\n",
    "recall_lda = recall_score(y_test, y_pred_lda)\n",
    "print(\"Recall Score (LDA):\", recall_lda)\n",
    "\n",
    "# Calculate ROC AUC score for testing set\n",
    "roc_auc_lda = roc_auc_score(y_test, y_pred_lda)\n",
    "print(\"ROC AUC Score (LDA):\", roc_auc_lda)\n"
   ]
  },
  {
   "cell_type": "markdown",
   "id": "ec446d60",
   "metadata": {},
   "source": [
    "## Creating confusion matrix"
   ]
  },
  {
   "cell_type": "code",
   "execution_count": 141,
   "id": "c541cb11",
   "metadata": {},
   "outputs": [
    {
     "data": {
      "text/plain": [
       "array([[442,  42],\n",
       "       [ 76, 108]], dtype=int64)"
      ]
     },
     "execution_count": 141,
     "metadata": {},
     "output_type": "execute_result"
    }
   ],
   "source": [
    "confusion_matrix(y_test,y_pred_lda)"
   ]
  },
  {
   "cell_type": "markdown",
   "id": "9333f10b",
   "metadata": {},
   "source": [
    "# Bagging Classifier\n",
    "## Training model and predicting values"
   ]
  },
  {
   "cell_type": "code",
   "execution_count": 142,
   "id": "e87cf546",
   "metadata": {},
   "outputs": [
    {
     "name": "stderr",
     "output_type": "stream",
     "text": [
      "C:\\Users\\HP HDD\\anaconda3\\Lib\\site-packages\\sklearn\\ensemble\\_base.py:156: FutureWarning: `base_estimator` was renamed to `estimator` in version 1.2 and will be removed in 1.4.\n",
      "  warnings.warn(\n"
     ]
    }
   ],
   "source": [
    "from sklearn.ensemble import BaggingClassifier\n",
    "\n",
    "\n",
    "# Initialize the base Decision Tree classifier\n",
    "base_clf = DecisionTreeClassifier()\n",
    "\n",
    "# Initialize the Bagging classifier\n",
    "bagging_clf = BaggingClassifier(base_estimator=base_clf, n_estimators=10, random_state=42)\n",
    "\n",
    "# Train the Bagging classifier\n",
    "bagging_clf.fit(X_train_scaled, y_train)\n",
    "\n",
    "# Predictions on the test set\n",
    "y_pred_bagging = bagging_clf.predict(X_test_scaled)\n",
    "\n"
   ]
  },
  {
   "cell_type": "markdown",
   "id": "d0e7d31b",
   "metadata": {},
   "source": [
    "## Evaluating performance of bagging classifier"
   ]
  },
  {
   "cell_type": "code",
   "execution_count": 143,
   "id": "51a82831",
   "metadata": {},
   "outputs": [
    {
     "name": "stdout",
     "output_type": "stream",
     "text": [
      "Training Accuracy (Bagging): 0.985013113525665\n",
      "Testing Accuracy (Bagging): 0.811377245508982\n",
      "Precision Score (Bagging): 0.7196969696969697\n",
      "Recall Score (Bagging): 0.5163043478260869\n",
      "ROC AUC Score : 0.7199290334171757\n"
     ]
    }
   ],
   "source": [
    "# Evaluating the model\n",
    "train_accuracy_bagging = accuracy_score(y_train, bagging_clf.predict(X_train_scaled))\n",
    "print(\"Training Accuracy (Bagging):\", train_accuracy_bagging)\n",
    "\n",
    "# Calculate accuracy score for testing set\n",
    "test_accuracy_bagging = accuracy_score(y_test, y_pred_bagging)\n",
    "print(\"Testing Accuracy (Bagging):\", test_accuracy_bagging)\n",
    "\n",
    "# Calculate precision score for testing set\n",
    "precision_bagging = precision_score(y_test, y_pred_bagging)\n",
    "print(\"Precision Score (Bagging):\", precision_bagging)\n",
    "\n",
    "# Calculate recall score for testing set\n",
    "recall_bagging = recall_score(y_test, y_pred_bagging)\n",
    "print(\"Recall Score (Bagging):\", recall_bagging)\n",
    "\n",
    "roc_auc = roc_auc_score(y_test, y_pred_bagging)\n",
    "print(\"ROC AUC Score :\", roc_auc)\n"
   ]
  },
  {
   "cell_type": "markdown",
   "id": "008722fd",
   "metadata": {},
   "source": [
    "## creating confusion matrix"
   ]
  },
  {
   "cell_type": "code",
   "execution_count": 144,
   "id": "bd88bffd",
   "metadata": {},
   "outputs": [
    {
     "data": {
      "text/plain": [
       "array([[447,  37],\n",
       "       [ 89,  95]], dtype=int64)"
      ]
     },
     "execution_count": 144,
     "metadata": {},
     "output_type": "execute_result"
    }
   ],
   "source": [
    "confusion_matrix(y_test,y_pred_bagging)"
   ]
  },
  {
   "cell_type": "markdown",
   "id": "9caaca49",
   "metadata": {},
   "source": [
    "# Gradient Boosting Classifier\n",
    "## Training the model and predicting the values"
   ]
  },
  {
   "cell_type": "code",
   "execution_count": 145,
   "id": "45dfda40",
   "metadata": {},
   "outputs": [],
   "source": [
    "from sklearn.ensemble import GradientBoostingClassifier\n",
    "from sklearn.preprocessing import StandardScaler\n",
    "from sklearn.metrics import accuracy_score, precision_score, recall_score\n",
    "\n",
    "# Initialize the Gradient Boosting classifier\n",
    "gb_clf = GradientBoostingClassifier()\n",
    "\n",
    "# Train the Gradient Boosting classifier\n",
    "gb_clf.fit(X_train_scaled, y_train)\n",
    "\n",
    "# Predictions on the test set\n",
    "y_pred_gb = gb_clf.predict(X_test_scaled)\n",
    "\n"
   ]
  },
  {
   "cell_type": "markdown",
   "id": "05a778ae",
   "metadata": {},
   "source": [
    "## Evaluating the performance of Gradient boosting"
   ]
  },
  {
   "cell_type": "code",
   "execution_count": 146,
   "id": "349ec2cb",
   "metadata": {},
   "outputs": [
    {
     "name": "stdout",
     "output_type": "stream",
     "text": [
      "Training Accuracy (Gradient Boosting): 0.8816035968527538\n",
      "Testing Accuracy (Gradient Boosting): 0.8263473053892215\n",
      "Precision Score (Gradient Boosting): 0.753731343283582\n",
      "Recall Score (Gradient Boosting): 0.5489130434782609\n",
      "ROC AUC Score : 0.7403656126482213\n"
     ]
    }
   ],
   "source": [
    "# Evaluating the model\n",
    "train_accuracy_gb = accuracy_score(y_train, gb_clf.predict(X_train_scaled))\n",
    "print(\"Training Accuracy (Gradient Boosting):\", train_accuracy_gb)\n",
    "\n",
    "# Calculate accuracy score for testing set\n",
    "test_accuracy_gb = accuracy_score(y_test, y_pred_gb)\n",
    "print(\"Testing Accuracy (Gradient Boosting):\", test_accuracy_gb)\n",
    "\n",
    "# Calculate precision score for testing set\n",
    "precision_gb = precision_score(y_test, y_pred_gb)\n",
    "print(\"Precision Score (Gradient Boosting):\", precision_gb)\n",
    "\n",
    "# Calculate recall score for testing set\n",
    "recall_gb = recall_score(y_test, y_pred_gb)\n",
    "print(\"Recall Score (Gradient Boosting):\", recall_gb)\n",
    "\n",
    "roc_auc = roc_auc_score(y_test, y_pred_gb)\n",
    "print(\"ROC AUC Score :\", roc_auc)\n"
   ]
  },
  {
   "cell_type": "markdown",
   "id": "10ea905b",
   "metadata": {},
   "source": [
    "## Creating confusion matrix"
   ]
  },
  {
   "cell_type": "code",
   "execution_count": 147,
   "id": "dcfc5206",
   "metadata": {},
   "outputs": [
    {
     "data": {
      "text/plain": [
       "array([[451,  33],\n",
       "       [ 83, 101]], dtype=int64)"
      ]
     },
     "execution_count": 147,
     "metadata": {},
     "output_type": "execute_result"
    }
   ],
   "source": [
    "confusion_matrix(y_test,y_pred_gb)"
   ]
  },
  {
   "cell_type": "markdown",
   "id": "896cac17",
   "metadata": {},
   "source": [
    "## Training the gradient boosting with parameters for better accuracy"
   ]
  },
  {
   "cell_type": "code",
   "execution_count": 148,
   "id": "862aa504",
   "metadata": {},
   "outputs": [],
   "source": [
    "gb_clf2 = GradientBoostingClassifier(learning_rate = 0.01, n_estimators =1000, max_depth = 1)\n",
    "\n",
    "# Train the Gradient Boosting classifier\n",
    "gb_clf2.fit(X_train_scaled, y_train)\n",
    "\n",
    "# Predictions on the test set\n",
    "y_pred_gb2 = gb_clf2.predict(X_test_scaled)\n"
   ]
  },
  {
   "cell_type": "markdown",
   "id": "decdd327",
   "metadata": {},
   "source": [
    "## Evaluating the performance of gradient boosting model with parameter"
   ]
  },
  {
   "cell_type": "code",
   "execution_count": 149,
   "id": "f54e1eb6",
   "metadata": {},
   "outputs": [
    {
     "name": "stdout",
     "output_type": "stream",
     "text": [
      "Training Accuracy (Gradient Boosting): 0.8452603971524916\n",
      "Testing Accuracy (Gradient Boosting): 0.8308383233532934\n",
      "Precision Score (Gradient Boosting): 0.8034188034188035\n",
      "Recall Score (Gradient Boosting): 0.5108695652173914\n",
      "ROC AUC Score : 0.7403656126482213\n"
     ]
    }
   ],
   "source": [
    "train_accuracy_gb = accuracy_score(y_train, gb_clf2.predict(X_train_scaled))\n",
    "print(\"Training Accuracy (Gradient Boosting):\", train_accuracy_gb)\n",
    "\n",
    "# Calculate accuracy score for testing set\n",
    "test_accuracy_gb = accuracy_score(y_test, y_pred_gb2)\n",
    "print(\"Testing Accuracy (Gradient Boosting):\", test_accuracy_gb)\n",
    "\n",
    "# Calculate precision score for testing set\n",
    "precision_gb = precision_score(y_test, y_pred_gb2)\n",
    "print(\"Precision Score (Gradient Boosting):\", precision_gb)\n",
    "\n",
    "# Calculate recall score for testing set\n",
    "recall_gb = recall_score(y_test, y_pred_gb2)\n",
    "print(\"Recall Score (Gradient Boosting):\", recall_gb)\n",
    "\n",
    "roc_auc = roc_auc_score(y_test, y_pred_gb)\n",
    "print(\"ROC AUC Score :\", roc_auc)\n"
   ]
  },
  {
   "cell_type": "markdown",
   "id": "8b7cf8b5",
   "metadata": {},
   "source": [
    "## creating the confusion matrix for 2nd gradient boosting"
   ]
  },
  {
   "cell_type": "code",
   "execution_count": 150,
   "id": "06149e2a",
   "metadata": {},
   "outputs": [
    {
     "data": {
      "text/plain": [
       "array([[461,  23],\n",
       "       [ 90,  94]], dtype=int64)"
      ]
     },
     "execution_count": 150,
     "metadata": {},
     "output_type": "execute_result"
    }
   ],
   "source": [
    "confusion_matrix(y_test,y_pred_gb2)"
   ]
  },
  {
   "cell_type": "markdown",
   "id": "20ca7d23",
   "metadata": {},
   "source": [
    "# AdaBoostClassifier\n",
    "## Training the model and Predicting the values"
   ]
  },
  {
   "cell_type": "code",
   "execution_count": 151,
   "id": "4a2eda21",
   "metadata": {},
   "outputs": [],
   "source": [
    "from sklearn.ensemble import AdaBoostClassifier\n",
    "\n",
    "# Initialize the base Decision Tree classifier\n",
    "# Initialize the base Decision Tree classifier\n",
    "\n",
    "# Initialize the AdaBoost classifier\n",
    "adaboost_clf = AdaBoostClassifier()\n",
    "adaboost_clf.fit(X_train_scaled, y_train)\n",
    "\n",
    "# Predictions on the test set\n",
    "y_pred_adaboost = adaboost_clf.predict(X_test_scaled)\n",
    "\n"
   ]
  },
  {
   "cell_type": "markdown",
   "id": "b5fea569",
   "metadata": {},
   "source": [
    "## Evaluating the performance of Adaboost"
   ]
  },
  {
   "cell_type": "code",
   "execution_count": 152,
   "id": "716e40d3",
   "metadata": {},
   "outputs": [
    {
     "name": "stdout",
     "output_type": "stream",
     "text": [
      "Training Accuracy (AdaBoost): 0.8493817909329336\n",
      "Testing Accuracy (AdaBoost): 0.8188622754491018\n",
      "Precision Score (AdaBoost): 0.752\n",
      "Recall Score (AdaBoost): 0.5108695652173914\n",
      "ROC AUC Score : 0.7234099892202659\n"
     ]
    }
   ],
   "source": [
    "# Evaluating the model\n",
    "train_accuracy_adaboost = accuracy_score(y_train, adaboost_clf.predict(X_train_scaled))\n",
    "print(\"Training Accuracy (AdaBoost):\", train_accuracy_adaboost)\n",
    "\n",
    "# Calculate accuracy score for testing set\n",
    "test_accuracy_adaboost = accuracy_score(y_test, y_pred_adaboost)\n",
    "print(\"Testing Accuracy (AdaBoost):\", test_accuracy_adaboost)\n",
    "\n",
    "# Calculate precision score for testing set\n",
    "precision_adaboost = precision_score(y_test, y_pred_adaboost)\n",
    "print(\"Precision Score (AdaBoost):\", precision_adaboost)\n",
    "\n",
    "# Calculate recall score for testing set\n",
    "recall_adaboost = recall_score(y_test, y_pred_adaboost)\n",
    "print(\"Recall Score (AdaBoost):\", recall_adaboost)\n",
    "\n",
    "roc_auc = roc_auc_score(y_test, y_pred_adaboost)\n",
    "print(\"ROC AUC Score :\", roc_auc)\n"
   ]
  },
  {
   "cell_type": "markdown",
   "id": "48f7baed",
   "metadata": {},
   "source": [
    "## AdaBoostClassifier with parameters"
   ]
  },
  {
   "cell_type": "code",
   "execution_count": 153,
   "id": "752ea972",
   "metadata": {},
   "outputs": [],
   "source": [
    "adaboost_clf2 = AdaBoostClassifier(learning_rate = 0.02, n_estimators = 5000)\n",
    "adaboost_clf2.fit(X_train_scaled, y_train)\n",
    "y_pred_adaboost2=adaboost_clf2.predict(X_test_scaled)"
   ]
  },
  {
   "cell_type": "markdown",
   "id": "ab5eb447",
   "metadata": {},
   "source": [
    "## Model performance of 2nd Adaboost"
   ]
  },
  {
   "cell_type": "code",
   "execution_count": 154,
   "id": "6b3df281",
   "metadata": {},
   "outputs": [
    {
     "name": "stdout",
     "output_type": "stream",
     "text": [
      "Training Accuracy (AdaBoost): 0.8565005620082428\n",
      "Testing Accuracy (AdaBoost): 0.8308383233532934\n",
      "Precision Score (AdaBoost): 0.7795275590551181\n",
      "Recall Score (AdaBoost): 0.5380434782608695\n",
      "ROC AUC Score : 0.740096119295724\n"
     ]
    }
   ],
   "source": [
    "train_accuracy_adaboost = accuracy_score(y_train, adaboost_clf2.predict(X_train_scaled))\n",
    "print(\"Training Accuracy (AdaBoost):\", train_accuracy_adaboost)\n",
    "\n",
    "# Calculate accuracy score for testing set\n",
    "test_accuracy_adaboost = accuracy_score(y_test, y_pred_adaboost2)\n",
    "print(\"Testing Accuracy (AdaBoost):\", test_accuracy_adaboost)\n",
    "\n",
    "# Calculate precision score for testing set\n",
    "precision_adaboost = precision_score(y_test, y_pred_adaboost2)\n",
    "print(\"Precision Score (AdaBoost):\", precision_adaboost)\n",
    "\n",
    "# Calculate recall score for testing set\n",
    "recall_adaboost = recall_score(y_test, y_pred_adaboost2)\n",
    "print(\"Recall Score (AdaBoost):\", recall_adaboost)\n",
    "\n",
    "roc_auc = roc_auc_score(y_test, y_pred_adaboost2)\n",
    "print(\"ROC AUC Score :\", roc_auc)\n"
   ]
  },
  {
   "cell_type": "markdown",
   "id": "bf10982d",
   "metadata": {},
   "source": [
    "## Creating confusion matrix"
   ]
  },
  {
   "cell_type": "code",
   "execution_count": 155,
   "id": "3a44d160",
   "metadata": {},
   "outputs": [
    {
     "data": {
      "text/plain": [
       "array([[453,  31],\n",
       "       [ 90,  94]], dtype=int64)"
      ]
     },
     "execution_count": 155,
     "metadata": {},
     "output_type": "execute_result"
    }
   ],
   "source": [
    "confusion_matrix(y_test,y_pred_adaboost)"
   ]
  },
  {
   "cell_type": "code",
   "execution_count": 156,
   "id": "094a0811",
   "metadata": {},
   "outputs": [
    {
     "data": {
      "text/plain": [
       "array([[456,  28],\n",
       "       [ 85,  99]], dtype=int64)"
      ]
     },
     "execution_count": 156,
     "metadata": {},
     "output_type": "execute_result"
    }
   ],
   "source": [
    "confusion_matrix(y_test,y_pred_adaboost2)"
   ]
  },
  {
   "cell_type": "markdown",
   "id": "bcbc76c9",
   "metadata": {},
   "source": [
    "# XGBoost\n",
    "## Training the model and Predicting the values"
   ]
  },
  {
   "cell_type": "code",
   "execution_count": 157,
   "id": "2d908dea",
   "metadata": {},
   "outputs": [],
   "source": [
    "import xgboost as xgb\n",
    "\n",
    "# Initialize the XGBoost classifier\n",
    "import xgboost as xgb\n",
    "from sklearn.preprocessing import StandardScaler\n",
    "from sklearn.metrics import accuracy_score, precision_score, recall_score\n",
    "\n",
    "# Initialize the XGBoost classifier\n",
    "xgb_clf = xgb.XGBClassifier(n_estimators=50, random_state=42)\n",
    "\n",
    "\n",
    "# Train the XGBoost classifier\n",
    "xgb_clf.fit(X_train_scaled, y_train)\n",
    "\n",
    "# Predictions on the test set\n",
    "y_pred_xgb = xgb_clf.predict(X_test_scaled)\n",
    "\n"
   ]
  },
  {
   "cell_type": "markdown",
   "id": "847a973e",
   "metadata": {},
   "source": [
    "# Evaluating the performance of the model XGBoost"
   ]
  },
  {
   "cell_type": "code",
   "execution_count": 158,
   "id": "3964538b",
   "metadata": {},
   "outputs": [
    {
     "name": "stdout",
     "output_type": "stream",
     "text": [
      "Training Accuracy (XGBoost): 0.985013113525665\n",
      "Testing Accuracy (XGBoost): 0.8143712574850299\n",
      "Precision Score (XGBoost): 0.6973684210526315\n",
      "Recall Score (XGBoost): 0.5760869565217391\n",
      "ROC AUC Score : 0.7405228171038447\n"
     ]
    }
   ],
   "source": [
    "# Evaluating the model\n",
    "train_accuracy_xgb = accuracy_score(y_train, xgb_clf.predict(X_train_scaled))\n",
    "print(\"Training Accuracy (XGBoost):\", train_accuracy_xgb)\n",
    "\n",
    "# Calculate accuracy score for testing set\n",
    "test_accuracy_xgb = accuracy_score(y_test, y_pred_xgb)\n",
    "print(\"Testing Accuracy (XGBoost):\", test_accuracy_xgb)\n",
    "\n",
    "# Calculate precision score for testing set\n",
    "precision_xgb = precision_score(y_test, y_pred_xgb)\n",
    "print(\"Precision Score (XGBoost):\", precision_xgb)\n",
    "\n",
    "# Calculate recall score for testing set\n",
    "recall_xgb = recall_score(y_test, y_pred_xgb)\n",
    "print(\"Recall Score (XGBoost):\", recall_xgb)\n",
    "\n",
    "roc_auc = roc_auc_score(y_test, y_pred_xgb)\n",
    "print(\"ROC AUC Score :\", roc_auc)\n",
    "\n"
   ]
  },
  {
   "cell_type": "markdown",
   "id": "71ec14c8",
   "metadata": {},
   "source": [
    "## Creating the confusion matrix"
   ]
  },
  {
   "cell_type": "code",
   "execution_count": 159,
   "id": "85ca3abf",
   "metadata": {},
   "outputs": [
    {
     "data": {
      "text/plain": [
       "array([[438,  46],\n",
       "       [ 78, 106]], dtype=int64)"
      ]
     },
     "execution_count": 159,
     "metadata": {},
     "output_type": "execute_result"
    }
   ],
   "source": [
    "confusion_matrix(y_test,y_pred_xgb)"
   ]
  },
  {
   "cell_type": "markdown",
   "id": "8ff1f3bd",
   "metadata": {},
   "source": [
    "# Random Forest Classifier\n",
    "## Training the model and Predicting the values"
   ]
  },
  {
   "cell_type": "code",
   "execution_count": 160,
   "id": "64ad6fec",
   "metadata": {},
   "outputs": [],
   "source": [
    "from sklearn.ensemble import RandomForestClassifier\n",
    "from sklearn.preprocessing import StandardScaler\n",
    "from sklearn.metrics import accuracy_score, precision_score, recall_score\n",
    "\n",
    "# Initialize the Random Forest classifier\n",
    "rf_clf = RandomForestClassifier(max_depth= 30, min_samples_split= 10, n_estimators= 10)\n",
    "\n",
    "# Train the Random Forest classifier\n",
    "rf_clf.fit(X_train_scaled, y_train)\n",
    "\n",
    "# Predictions on the test set\n",
    "y_pred_rf = rf_clf.predict(X_test_scaled)\n",
    "\n"
   ]
  },
  {
   "cell_type": "markdown",
   "id": "7208c08e",
   "metadata": {},
   "source": [
    "## Evaluating the model performance"
   ]
  },
  {
   "cell_type": "code",
   "execution_count": 161,
   "id": "d6f1f14e",
   "metadata": {},
   "outputs": [
    {
     "name": "stdout",
     "output_type": "stream",
     "text": [
      "Training Accuracy (Random Forest): 0.9306856500562009\n",
      "Testing Accuracy (Random Forest): 0.8158682634730539\n",
      "Precision Score (Random Forest): 0.7163120567375887\n",
      "Recall Score (Random Forest): 0.5489130434782609\n",
      "ROC AUC Score : 0.7331342076895436\n"
     ]
    }
   ],
   "source": [
    "# Evaluating the model\n",
    "train_accuracy_rf = accuracy_score(y_train, rf_clf.predict(X_train_scaled))\n",
    "print(\"Training Accuracy (Random Forest):\", train_accuracy_rf)\n",
    "\n",
    "# Calculate accuracy score for testing set\n",
    "test_accuracy_rf = accuracy_score(y_test, y_pred_rf)\n",
    "print(\"Testing Accuracy (Random Forest):\", test_accuracy_rf)\n",
    "\n",
    "# Calculate precision score for testing set\n",
    "precision_rf = precision_score(y_test, y_pred_rf)\n",
    "print(\"Precision Score (Random Forest):\", precision_rf)\n",
    "\n",
    "# Calculate recall score for testing set\n",
    "recall_rf = recall_score(y_test, y_pred_rf)\n",
    "print(\"Recall Score (Random Forest):\", recall_rf)\n",
    "\n",
    "roc_auc = roc_auc_score(y_test, y_pred_rf)\n",
    "print(\"ROC AUC Score :\", roc_auc)\n"
   ]
  },
  {
   "cell_type": "markdown",
   "id": "b8873062",
   "metadata": {},
   "source": [
    "## Creating the confusion matrix"
   ]
  },
  {
   "cell_type": "code",
   "execution_count": 162,
   "id": "809fb367",
   "metadata": {},
   "outputs": [
    {
     "data": {
      "text/plain": [
       "array([[444,  40],\n",
       "       [ 83, 101]], dtype=int64)"
      ]
     },
     "execution_count": 162,
     "metadata": {},
     "output_type": "execute_result"
    }
   ],
   "source": [
    "confusion_matrix(y_test,y_pred_rf)"
   ]
  },
  {
   "cell_type": "code",
   "execution_count": 163,
   "id": "a6761e9e",
   "metadata": {},
   "outputs": [
    {
     "data": {
      "text/html": [
       "<div>\n",
       "<style scoped>\n",
       "    .dataframe tbody tr th:only-of-type {\n",
       "        vertical-align: middle;\n",
       "    }\n",
       "\n",
       "    .dataframe tbody tr th {\n",
       "        vertical-align: top;\n",
       "    }\n",
       "\n",
       "    .dataframe thead th {\n",
       "        text-align: right;\n",
       "    }\n",
       "</style>\n",
       "<table border=\"1\" class=\"dataframe\">\n",
       "  <thead>\n",
       "    <tr style=\"text-align: right;\">\n",
       "      <th></th>\n",
       "      <th>MinTemp</th>\n",
       "      <th>MaxTemp</th>\n",
       "      <th>Rainfall</th>\n",
       "      <th>Evaporation</th>\n",
       "      <th>Sunshine</th>\n",
       "      <th>Humidity9am</th>\n",
       "      <th>Humidity3pm</th>\n",
       "      <th>Pressure9am</th>\n",
       "      <th>Pressure3pm</th>\n",
       "      <th>Cloud9am</th>\n",
       "      <th>Cloud3pm</th>\n",
       "      <th>Temp9am</th>\n",
       "      <th>Temp3pm</th>\n",
       "      <th>RainToday_Yes</th>\n",
       "      <th>RainTomorrow_Yes</th>\n",
       "    </tr>\n",
       "  </thead>\n",
       "  <tbody>\n",
       "    <tr>\n",
       "      <th>0</th>\n",
       "      <td>19.5</td>\n",
       "      <td>22.4</td>\n",
       "      <td>3.5</td>\n",
       "      <td>6.200000</td>\n",
       "      <td>0.0</td>\n",
       "      <td>92.0</td>\n",
       "      <td>84.0</td>\n",
       "      <td>1017.6</td>\n",
       "      <td>1017.4</td>\n",
       "      <td>8.0</td>\n",
       "      <td>8.0</td>\n",
       "      <td>20.7</td>\n",
       "      <td>20.9</td>\n",
       "      <td>1</td>\n",
       "      <td>1</td>\n",
       "    </tr>\n",
       "    <tr>\n",
       "      <th>1</th>\n",
       "      <td>19.5</td>\n",
       "      <td>25.6</td>\n",
       "      <td>3.5</td>\n",
       "      <td>3.400000</td>\n",
       "      <td>2.7</td>\n",
       "      <td>83.0</td>\n",
       "      <td>73.0</td>\n",
       "      <td>1017.9</td>\n",
       "      <td>1016.4</td>\n",
       "      <td>7.0</td>\n",
       "      <td>7.0</td>\n",
       "      <td>22.4</td>\n",
       "      <td>24.8</td>\n",
       "      <td>1</td>\n",
       "      <td>1</td>\n",
       "    </tr>\n",
       "    <tr>\n",
       "      <th>2</th>\n",
       "      <td>21.6</td>\n",
       "      <td>24.5</td>\n",
       "      <td>3.5</td>\n",
       "      <td>2.400000</td>\n",
       "      <td>0.1</td>\n",
       "      <td>88.0</td>\n",
       "      <td>86.0</td>\n",
       "      <td>1016.7</td>\n",
       "      <td>1015.6</td>\n",
       "      <td>7.0</td>\n",
       "      <td>8.0</td>\n",
       "      <td>23.5</td>\n",
       "      <td>23.0</td>\n",
       "      <td>1</td>\n",
       "      <td>1</td>\n",
       "    </tr>\n",
       "    <tr>\n",
       "      <th>3</th>\n",
       "      <td>20.2</td>\n",
       "      <td>22.8</td>\n",
       "      <td>3.5</td>\n",
       "      <td>2.200000</td>\n",
       "      <td>0.0</td>\n",
       "      <td>83.0</td>\n",
       "      <td>90.0</td>\n",
       "      <td>1014.2</td>\n",
       "      <td>1011.8</td>\n",
       "      <td>8.0</td>\n",
       "      <td>8.0</td>\n",
       "      <td>21.4</td>\n",
       "      <td>20.9</td>\n",
       "      <td>1</td>\n",
       "      <td>1</td>\n",
       "    </tr>\n",
       "    <tr>\n",
       "      <th>4</th>\n",
       "      <td>19.7</td>\n",
       "      <td>25.7</td>\n",
       "      <td>3.5</td>\n",
       "      <td>5.187432</td>\n",
       "      <td>0.0</td>\n",
       "      <td>88.0</td>\n",
       "      <td>74.0</td>\n",
       "      <td>1008.3</td>\n",
       "      <td>1004.8</td>\n",
       "      <td>8.0</td>\n",
       "      <td>8.0</td>\n",
       "      <td>22.5</td>\n",
       "      <td>25.5</td>\n",
       "      <td>1</td>\n",
       "      <td>1</td>\n",
       "    </tr>\n",
       "  </tbody>\n",
       "</table>\n",
       "</div>"
      ],
      "text/plain": [
       "   MinTemp  MaxTemp  Rainfall  Evaporation  Sunshine  Humidity9am  \\\n",
       "0     19.5     22.4       3.5     6.200000       0.0         92.0   \n",
       "1     19.5     25.6       3.5     3.400000       2.7         83.0   \n",
       "2     21.6     24.5       3.5     2.400000       0.1         88.0   \n",
       "3     20.2     22.8       3.5     2.200000       0.0         83.0   \n",
       "4     19.7     25.7       3.5     5.187432       0.0         88.0   \n",
       "\n",
       "   Humidity3pm  Pressure9am  Pressure3pm  Cloud9am  Cloud3pm  Temp9am  \\\n",
       "0         84.0       1017.6       1017.4       8.0       8.0     20.7   \n",
       "1         73.0       1017.9       1016.4       7.0       7.0     22.4   \n",
       "2         86.0       1016.7       1015.6       7.0       8.0     23.5   \n",
       "3         90.0       1014.2       1011.8       8.0       8.0     21.4   \n",
       "4         74.0       1008.3       1004.8       8.0       8.0     22.5   \n",
       "\n",
       "   Temp3pm  RainToday_Yes  RainTomorrow_Yes  \n",
       "0     20.9              1                 1  \n",
       "1     24.8              1                 1  \n",
       "2     23.0              1                 1  \n",
       "3     20.9              1                 1  \n",
       "4     25.5              1                 1  "
      ]
     },
     "execution_count": 163,
     "metadata": {},
     "output_type": "execute_result"
    }
   ],
   "source": [
    "df.head()"
   ]
  },
  {
   "cell_type": "markdown",
   "id": "8656c104",
   "metadata": {},
   "source": [
    "# All Models Performance\n",
    "\n",
    "### Logistic Regression\n",
    "Training Accuracy (Logistic Regression): 0.8392656425627576<br>\n",
    "Testing Accuracy (Logistic Regression): 0.8218562874251497<br>\n",
    "Precision score for logistic regression: 0.7338129496402878<br>\n",
    "Recall score for logistic regression: 0.5543478260869565<br>\n",
    "ROC AUC Score : 0.7389507725476105<br>\n",
    "    \n",
    "### LDA<br>\n",
    "Training Accuracy (LDA): 0.8332708879730236<br>\n",
    "Testing Accuracy (LDA): 0.8233532934131736<br>\n",
    "Precision Score (LDA): 0.72<br>\n",
    "Recall Score (LDA): 0.5869565217391305<br>\n",
    "ROC AUC Score (LDA): 0.750089831117499<br>\n",
    "\n",
    "### KNN<br>\n",
    "Training Accuracy (KNN): 0.8643686774072686<br>\n",
    "Testing Accuracy (KNN): 0.8068862275449101<br>\n",
    "Precision Score (KNN): 0.6708074534161491<br>\n",
    "Recall Score (KNN): 0.5869565217391305<br>\n",
    "ROC AUC Score : 0.7387261947538627<br>\n",
    "\n",
    "### Decision tree classifier<br>\n",
    "Training Accuracy: 1.0<br>\n",
    "Testing Accuracy: 0.7694610778443114<br>\n",
    "Precision Score: 0.5797872340425532<br>\n",
    "Recall Score: 0.592391304347826<br>\n",
    "ROC AUC Score : 0.7145840819259792<br>\n",
    "\n",
    "### Bagging<br>\n",
    "Training Accuracy (Bagging): 0.985013113525665<br>\n",
    "Testing Accuracy (Bagging): 0.811377245508982<br>\n",
    "Precision Score (Bagging): 0.7196969696969697<br>\n",
    "Recall Score (Bagging): 0.5163043478260869<br>\n",
    "ROC AUC Score : 0.7199290334171757<br>\n",
    "\n",
    "### AdaBoost1<br>\n",
    "Training Accuracy (AdaBoost): 0.8493817909329336<br>\n",
    "Testing Accuracy (AdaBoost): 0.8188622754491018<br>\n",
    "Precision Score (AdaBoost): 0.752<br>\n",
    "Recall Score (AdaBoost): 0.5108695652173914<br>\n",
    "ROC AUC Score : 0.7234099892202659<br>\n",
    "\n",
    "### AdaBoost2<br>\n",
    "Training Accuracy (AdaBoost): 0.8565005620082428<br>\n",
    "Testing Accuracy (AdaBoost): 0.8308383233532934<br>\n",
    "Precision Score (AdaBoost): 0.7795275590551181<br>\n",
    "Recall Score (AdaBoost): 0.5380434782608695<br>\n",
    "ROC AUC Score : 0.740096119295724<br>\n",
    "\n",
    "### GradientBoost1<br>\n",
    "Training Accuracy (Gradient Boosting): 0.8816035968527538<br>\n",
    "Testing Accuracy (Gradient Boosting): 0.8278443113772455<br>\n",
    "Precision Score (Gradient Boosting): 0.7593984962406015<br>\n",
    "Recall Score (Gradient Boosting): 0.5489130434782609<br>\n",
    "ROC AUC Score : 0.741398670499461<br>\n",
    "\n",
    "### GradientBoost2<br>\n",
    "Training Accuracy (Gradient Boosting): 0.8452603971524916<br>\n",
    "Testing Accuracy (Gradient Boosting): 0.8308383233532934<br>\n",
    "Precision Score (Gradient Boosting): 0.8034188034188035<br>\n",
    "Recall Score (Gradient Boosting): 0.5108695652173914<br>\n",
    "ROC AUC Score : 0.741398670499461<br>\n",
    "\n",
    "### XGBoost<br>\n",
    "Training Accuracy (XGBoost): 0.985013113525665<br>\n",
    "Testing Accuracy (XGBoost): 0.8143712574850299<br>\n",
    "Precision Score (XGBoost): 0.6973684210526315<br>\n",
    "Recall Score (XGBoost): 0.5760869565217391<br>\n",
    "ROC AUC Score : 0.7405228171038447<br>\n",
    "    \n",
    "### Random forest<br>\n",
    "Training Accuracy (Random Forest): 0.9276882727613338<br>\n",
    "Testing Accuracy (Random Forest): 0.8218562874251497<br>\n",
    "Precision Score (Random Forest): 0.7407407407407407<br>\n",
    "Recall Score (Random Forest): 0.5434782608695652<br>\n",
    "ROC AUC Score : 0.7355821056413941<br>"
   ]
  },
  {
   "cell_type": "markdown",
   "id": "f352e721",
   "metadata": {},
   "source": [
    "# Q.1)  Your Views About Problem Statement\n",
    "\n",
    "In this problem statement we have to predict the rainfall based on various features such as MinTemp\tMaxTemp\tRainfall\tEvaporation\tSunshine, Humidity9am, Humidity3pm,\tPressure9am, Pressure3pm, Cloud9am,\tCloud3pm, Temp9am, Temp3pm, RainToday_Yes, RainTomorrow_Yes\n",
    "The main objective is to build machine learning models for rainfall prediction based on these features."
   ]
  },
  {
   "cell_type": "markdown",
   "id": "06dd3716",
   "metadata": {},
   "source": [
    "# Q.2) What will be your approach to solve this task\n",
    "\n",
    "### My Approach to solve this task:\n",
    "\n",
    "1.Import required libraries<br>\n",
    "2.Load the dataset<br>\n",
    "3.Perform Data pre-processing like cleaning the data, handling missing values,identifying outliers and treating the outliers,converting the categorical variables,etc<br>\n",
    "4.Plotted the correlation matrix to identify the relationship among the variables<br>\n",
    "5.Defined the independent variables and dependent variable i.e target variable<br>\n",
    "6.Spliting the data into Training set and testing set<br>\n",
    "7.Then trained and tested various classification models such as Logistic regression,LDA,KNN,Bagging,Boosting,Decision Trees,Ensemble methods<br>\n",
    "8.Evaluated the various models performance by plotting the training score,testing score,precision score,recall score,roc auc score<br>\n",
    "9.Performed the parameter tunning to enhance the model's performance . Added the parameters to improve the accuracy For adaboost and gradient boosting<br>\n"
   ]
  },
  {
   "cell_type": "markdown",
   "id": "87e88bb1",
   "metadata": {},
   "source": [
    "# Q.3) What were the available ML model options you had to perform this task?\n",
    "### The following were the available ML model option for this task:\n",
    "\n",
    "1.Logistic Regression Model<br>\n",
    "2.Linear Discrimnent Analysis<br>\n",
    "3.K Nearest Neighbours Model<br>\n",
    "4.Decision Tree Classifier Model<br>\n",
    "5.Bagging Classifier Model<br>\n",
    "6.Random Forest Classifier Model<br>\n",
    "7.Gradient Boosting Classifier<br>\n",
    "8.Ada Boosting Classifier Model<br>\n",
    "9.XG Boosting Model<br>"
   ]
  },
  {
   "cell_type": "markdown",
   "id": "f8f42a08",
   "metadata": {},
   "source": [
    "# Q.4) Which model’s performance is best and what could be the possible reason for that?\n",
    "\n",
    "The Gradient Boosting Classifier Model 2 performed better for this dataset with highest accuracy score of 0.8452 for the training dataset and 0.8308 for testing dataset and the difference between the test accuracy and train accuracy is also very small hence the model is not under or overfitting the data.So it is the best performing model for this dataset.<br><br>\n",
    "The Gradient boosting classifier will give the 461 true positive and 94 true negative values it correctly predicts the 555 out of 668 values, from all the models Gradient boosting algorithm gives the highest values. <br><br>\n",
    "Gradient Boosting is a powerful ensemble learning technique used for both classification and regression tasks. It builds a strong predictive model by combining multiple weak learners, typically decision trees, sequentially. Each new tree added to the ensemble corrects the errors of the previous ones, gradually improving the model's performance."
   ]
  },
  {
   "cell_type": "markdown",
   "id": "0336ee49",
   "metadata": {},
   "source": [
    "# Q.5) What steps can you take to improve this selected model’s performance even further?\n",
    "1.Feature Engineering:\n",
    "\n",
    "Analyze and explore your dataset to identify potentially informative features.\n",
    "Create new features that capture relevant information or interactions between existing features.\n",
    "Remove irrelevant or redundant features that may add noise to the model.\n",
    "\n",
    "2.Hyperparameter Tuning:\n",
    "\n",
    "Experiment with different values of hyperparameters such as learning rate, number of estimators, and maximum depth.\n",
    "Utilize techniques like grid search or randomized search to search over a range of hyperparameters and find the combination that yields the best performance.\n",
    "\n",
    "3.Ensemble Methods:\n",
    "\n",
    "Experiment with other ensemble methods such as Random Forests or AdaBoost and compare their performance with Gradient Boosting.\n",
    "Ensemble methods often complement each other, so combining multiple models may improve overall performance.\n",
    "\n",
    "Cross-Validation:\n",
    "\n",
    "Use cross-validation techniques to assess the generalization performance of your model more reliably.\n",
    "Perform cross-validation grid search to find the optimal combination of hyperparameters while avoiding overfitting to the validation set.\n",
    "\n"
   ]
  },
  {
   "cell_type": "code",
   "execution_count": null,
   "id": "b2576788",
   "metadata": {},
   "outputs": [],
   "source": []
  },
  {
   "cell_type": "code",
   "execution_count": null,
   "id": "f08f5616",
   "metadata": {},
   "outputs": [],
   "source": []
  },
  {
   "cell_type": "code",
   "execution_count": null,
   "id": "d7994faa",
   "metadata": {},
   "outputs": [],
   "source": []
  }
 ],
 "metadata": {
  "kernelspec": {
   "display_name": "Python 3 (ipykernel)",
   "language": "python",
   "name": "python3"
  },
  "language_info": {
   "codemirror_mode": {
    "name": "ipython",
    "version": 3
   },
   "file_extension": ".py",
   "mimetype": "text/x-python",
   "name": "python",
   "nbconvert_exporter": "python",
   "pygments_lexer": "ipython3",
   "version": "3.11.4"
  }
 },
 "nbformat": 4,
 "nbformat_minor": 5
}
